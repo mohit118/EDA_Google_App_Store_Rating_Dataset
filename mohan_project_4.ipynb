{
 "cells": [
  {
   "cell_type": "markdown",
   "metadata": {},
   "source": [
    "<font size=6>WK04 Python Project"
   ]
  },
  {
   "cell_type": "markdown",
   "metadata": {},
   "source": [
    "<font size=6><font color=\"red\"> EDA & df Preprocessing on Google App Store Rating dfset."
   ]
  },
  {
   "cell_type": "markdown",
   "metadata": {},
   "source": [
    "<font size=5> Q1 Import required libraries and read the dfset."
   ]
  },
  {
   "cell_type": "code",
   "execution_count": 2,
   "metadata": {},
   "outputs": [],
   "source": [
    "#import all the required libraries\n",
    "import pandas as pd\n",
    "import numpy as np\n",
    "import matplotlib.pyplot as plt\n",
    "import seaborn as sns\n",
    "from sklearn.preprocessing import LabelEncoder, MinMaxScaler, StandardScaler\n",
    "from sklearn.model_selection import train_test_split"
   ]
  },
  {
   "cell_type": "code",
   "execution_count": 3,
   "metadata": {},
   "outputs": [
    {
     "data": {
      "text/html": [
       "<div>\n",
       "<style scoped>\n",
       "    .dataframe tbody tr th:only-of-type {\n",
       "        vertical-align: middle;\n",
       "    }\n",
       "\n",
       "    .dataframe tbody tr th {\n",
       "        vertical-align: top;\n",
       "    }\n",
       "\n",
       "    .dataframe thead th {\n",
       "        text-align: right;\n",
       "    }\n",
       "</style>\n",
       "<table border=\"1\" class=\"dataframe\">\n",
       "  <thead>\n",
       "    <tr style=\"text-align: right;\">\n",
       "      <th></th>\n",
       "      <th>App</th>\n",
       "      <th>Category</th>\n",
       "      <th>Rating</th>\n",
       "      <th>Reviews</th>\n",
       "      <th>Size</th>\n",
       "      <th>Installs</th>\n",
       "      <th>Type</th>\n",
       "      <th>Price</th>\n",
       "      <th>Content Rating</th>\n",
       "      <th>Genres</th>\n",
       "      <th>Last Updated</th>\n",
       "      <th>Current Ver</th>\n",
       "      <th>Android Ver</th>\n",
       "    </tr>\n",
       "  </thead>\n",
       "  <tbody>\n",
       "    <tr>\n",
       "      <th>0</th>\n",
       "      <td>Photo Editor &amp; Candy Camera &amp; Grid &amp; ScrapBook</td>\n",
       "      <td>ART_AND_DESIGN</td>\n",
       "      <td>4.1</td>\n",
       "      <td>159</td>\n",
       "      <td>19M</td>\n",
       "      <td>10,000+</td>\n",
       "      <td>Free</td>\n",
       "      <td>0</td>\n",
       "      <td>Everyone</td>\n",
       "      <td>Art &amp; Design</td>\n",
       "      <td>January 7, 2018</td>\n",
       "      <td>1.0.0</td>\n",
       "      <td>4.0.3 and up</td>\n",
       "    </tr>\n",
       "    <tr>\n",
       "      <th>1</th>\n",
       "      <td>Coloring book moana</td>\n",
       "      <td>ART_AND_DESIGN</td>\n",
       "      <td>3.9</td>\n",
       "      <td>967</td>\n",
       "      <td>14M</td>\n",
       "      <td>500,000+</td>\n",
       "      <td>Free</td>\n",
       "      <td>0</td>\n",
       "      <td>Everyone</td>\n",
       "      <td>Art &amp; Design;Pretend Play</td>\n",
       "      <td>January 15, 2018</td>\n",
       "      <td>2.0.0</td>\n",
       "      <td>4.0.3 and up</td>\n",
       "    </tr>\n",
       "    <tr>\n",
       "      <th>2</th>\n",
       "      <td>U Launcher Lite – FREE Live Cool Themes, Hide ...</td>\n",
       "      <td>ART_AND_DESIGN</td>\n",
       "      <td>4.7</td>\n",
       "      <td>87510</td>\n",
       "      <td>8.7M</td>\n",
       "      <td>5,000,000+</td>\n",
       "      <td>Free</td>\n",
       "      <td>0</td>\n",
       "      <td>Everyone</td>\n",
       "      <td>Art &amp; Design</td>\n",
       "      <td>August 1, 2018</td>\n",
       "      <td>1.2.4</td>\n",
       "      <td>4.0.3 and up</td>\n",
       "    </tr>\n",
       "    <tr>\n",
       "      <th>3</th>\n",
       "      <td>Sketch - Draw &amp; Paint</td>\n",
       "      <td>ART_AND_DESIGN</td>\n",
       "      <td>4.5</td>\n",
       "      <td>215644</td>\n",
       "      <td>25M</td>\n",
       "      <td>50,000,000+</td>\n",
       "      <td>Free</td>\n",
       "      <td>0</td>\n",
       "      <td>Teen</td>\n",
       "      <td>Art &amp; Design</td>\n",
       "      <td>June 8, 2018</td>\n",
       "      <td>Varies with device</td>\n",
       "      <td>4.2 and up</td>\n",
       "    </tr>\n",
       "    <tr>\n",
       "      <th>4</th>\n",
       "      <td>Pixel Draw - Number Art Coloring Book</td>\n",
       "      <td>ART_AND_DESIGN</td>\n",
       "      <td>4.3</td>\n",
       "      <td>967</td>\n",
       "      <td>2.8M</td>\n",
       "      <td>100,000+</td>\n",
       "      <td>Free</td>\n",
       "      <td>0</td>\n",
       "      <td>Everyone</td>\n",
       "      <td>Art &amp; Design;Creativity</td>\n",
       "      <td>June 20, 2018</td>\n",
       "      <td>1.1</td>\n",
       "      <td>4.4 and up</td>\n",
       "    </tr>\n",
       "  </tbody>\n",
       "</table>\n",
       "</div>"
      ],
      "text/plain": [
       "                                                 App        Category  Rating  \\\n",
       "0     Photo Editor & Candy Camera & Grid & ScrapBook  ART_AND_DESIGN     4.1   \n",
       "1                                Coloring book moana  ART_AND_DESIGN     3.9   \n",
       "2  U Launcher Lite – FREE Live Cool Themes, Hide ...  ART_AND_DESIGN     4.7   \n",
       "3                              Sketch - Draw & Paint  ART_AND_DESIGN     4.5   \n",
       "4              Pixel Draw - Number Art Coloring Book  ART_AND_DESIGN     4.3   \n",
       "\n",
       "  Reviews  Size     Installs  Type Price Content Rating  \\\n",
       "0     159   19M      10,000+  Free     0       Everyone   \n",
       "1     967   14M     500,000+  Free     0       Everyone   \n",
       "2   87510  8.7M   5,000,000+  Free     0       Everyone   \n",
       "3  215644   25M  50,000,000+  Free     0           Teen   \n",
       "4     967  2.8M     100,000+  Free     0       Everyone   \n",
       "\n",
       "                      Genres      Last Updated         Current Ver  \\\n",
       "0               Art & Design   January 7, 2018               1.0.0   \n",
       "1  Art & Design;Pretend Play  January 15, 2018               2.0.0   \n",
       "2               Art & Design    August 1, 2018               1.2.4   \n",
       "3               Art & Design      June 8, 2018  Varies with device   \n",
       "4    Art & Design;Creativity     June 20, 2018                 1.1   \n",
       "\n",
       "    Android Ver  \n",
       "0  4.0.3 and up  \n",
       "1  4.0.3 and up  \n",
       "2  4.0.3 and up  \n",
       "3    4.2 and up  \n",
       "4    4.4 and up  "
      ]
     },
     "execution_count": 3,
     "metadata": {},
     "output_type": "execute_result"
    }
   ],
   "source": [
    "df = pd.read_csv(r\"D:\\glda_practice\\project\\project 4\\Apps_data+(1).csv\")\n",
    "df.head()\n"
   ]
  },
  {
   "cell_type": "markdown",
   "metadata": {},
   "source": [
    "<font size=5>2. Check the first few samples, shape, info of the df and try to familiarize yourself with different features.\n"
   ]
  },
  {
   "cell_type": "code",
   "execution_count": null,
   "metadata": {},
   "outputs": [
    {
     "data": {
      "text/html": [
       "<div>\n",
       "<style scoped>\n",
       "    .dataframe tbody tr th:only-of-type {\n",
       "        vertical-align: middle;\n",
       "    }\n",
       "\n",
       "    .dataframe tbody tr th {\n",
       "        vertical-align: top;\n",
       "    }\n",
       "\n",
       "    .dataframe thead th {\n",
       "        text-align: right;\n",
       "    }\n",
       "</style>\n",
       "<table border=\"1\" class=\"dataframe\">\n",
       "  <thead>\n",
       "    <tr style=\"text-align: right;\">\n",
       "      <th></th>\n",
       "      <th>App</th>\n",
       "      <th>Category</th>\n",
       "      <th>Rating</th>\n",
       "      <th>Reviews</th>\n",
       "      <th>Size</th>\n",
       "      <th>Installs</th>\n",
       "      <th>Type</th>\n",
       "      <th>Price</th>\n",
       "      <th>Content Rating</th>\n",
       "      <th>Genres</th>\n",
       "      <th>Last Updated</th>\n",
       "      <th>Current Ver</th>\n",
       "      <th>Android Ver</th>\n",
       "    </tr>\n",
       "  </thead>\n",
       "  <tbody>\n",
       "    <tr>\n",
       "      <th>987</th>\n",
       "      <td>Sticker Market: Emoji keyboard</td>\n",
       "      <td>ENTERTAINMENT</td>\n",
       "      <td>4.3</td>\n",
       "      <td>303</td>\n",
       "      <td>44M</td>\n",
       "      <td>10,000+</td>\n",
       "      <td>Free</td>\n",
       "      <td>0</td>\n",
       "      <td>Teen</td>\n",
       "      <td>Entertainment</td>\n",
       "      <td>December 14, 2017</td>\n",
       "      <td>1.2.3</td>\n",
       "      <td>4.2 and up</td>\n",
       "    </tr>\n",
       "    <tr>\n",
       "      <th>2100</th>\n",
       "      <td>Little Panda Run</td>\n",
       "      <td>FAMILY</td>\n",
       "      <td>4.2</td>\n",
       "      <td>3235</td>\n",
       "      <td>32M</td>\n",
       "      <td>1,000,000+</td>\n",
       "      <td>Free</td>\n",
       "      <td>0</td>\n",
       "      <td>Everyone</td>\n",
       "      <td>Educational;Action &amp; Adventure</td>\n",
       "      <td>June 20, 2018</td>\n",
       "      <td>8.25.10.00</td>\n",
       "      <td>4.0.3 and up</td>\n",
       "    </tr>\n",
       "    <tr>\n",
       "      <th>2519</th>\n",
       "      <td>Airway Ex - Intubate. Anesthetize. Train.</td>\n",
       "      <td>MEDICAL</td>\n",
       "      <td>4.3</td>\n",
       "      <td>123</td>\n",
       "      <td>86M</td>\n",
       "      <td>10,000+</td>\n",
       "      <td>Free</td>\n",
       "      <td>0</td>\n",
       "      <td>Everyone</td>\n",
       "      <td>Medical</td>\n",
       "      <td>June 1, 2018</td>\n",
       "      <td>0.6.88</td>\n",
       "      <td>5.0 and up</td>\n",
       "    </tr>\n",
       "    <tr>\n",
       "      <th>9860</th>\n",
       "      <td>Voice changer with effects</td>\n",
       "      <td>FAMILY</td>\n",
       "      <td>4.2</td>\n",
       "      <td>1260903</td>\n",
       "      <td>8.7M</td>\n",
       "      <td>50,000,000+</td>\n",
       "      <td>Free</td>\n",
       "      <td>0</td>\n",
       "      <td>Everyone</td>\n",
       "      <td>Entertainment</td>\n",
       "      <td>August 2, 2018</td>\n",
       "      <td>3.4.8</td>\n",
       "      <td>4.1 and up</td>\n",
       "    </tr>\n",
       "    <tr>\n",
       "      <th>2507</th>\n",
       "      <td>Nurse Grid</td>\n",
       "      <td>MEDICAL</td>\n",
       "      <td>4.5</td>\n",
       "      <td>1686</td>\n",
       "      <td>15M</td>\n",
       "      <td>100,000+</td>\n",
       "      <td>Free</td>\n",
       "      <td>0</td>\n",
       "      <td>Everyone</td>\n",
       "      <td>Medical</td>\n",
       "      <td>July 30, 2018</td>\n",
       "      <td>2.9</td>\n",
       "      <td>4.4 and up</td>\n",
       "    </tr>\n",
       "  </tbody>\n",
       "</table>\n",
       "</div>"
      ],
      "text/plain": [
       "                                            App       Category  Rating  \\\n",
       "987              Sticker Market: Emoji keyboard  ENTERTAINMENT     4.3   \n",
       "2100                           Little Panda Run         FAMILY     4.2   \n",
       "2519  Airway Ex - Intubate. Anesthetize. Train.        MEDICAL     4.3   \n",
       "9860                 Voice changer with effects         FAMILY     4.2   \n",
       "2507                                 Nurse Grid        MEDICAL     4.5   \n",
       "\n",
       "      Reviews  Size     Installs  Type Price Content Rating  \\\n",
       "987       303   44M      10,000+  Free     0           Teen   \n",
       "2100     3235   32M   1,000,000+  Free     0       Everyone   \n",
       "2519      123   86M      10,000+  Free     0       Everyone   \n",
       "9860  1260903  8.7M  50,000,000+  Free     0       Everyone   \n",
       "2507     1686   15M     100,000+  Free     0       Everyone   \n",
       "\n",
       "                              Genres       Last Updated Current Ver  \\\n",
       "987                    Entertainment  December 14, 2017       1.2.3   \n",
       "2100  Educational;Action & Adventure      June 20, 2018  8.25.10.00   \n",
       "2519                         Medical       June 1, 2018      0.6.88   \n",
       "9860                   Entertainment     August 2, 2018       3.4.8   \n",
       "2507                         Medical      July 30, 2018         2.9   \n",
       "\n",
       "       Android Ver  \n",
       "987     4.2 and up  \n",
       "2100  4.0.3 and up  \n",
       "2519    5.0 and up  \n",
       "9860    4.1 and up  \n",
       "2507    4.4 and up  "
      ]
     },
     "execution_count": 80,
     "metadata": {},
     "output_type": "execute_result"
    }
   ],
   "source": [
    "#samples\n",
    "df.sample(5)\n"
   ]
  },
  {
   "cell_type": "code",
   "execution_count": null,
   "metadata": {},
   "outputs": [
    {
     "data": {
      "text/plain": [
       "(10841, 13)"
      ]
     },
     "execution_count": 81,
     "metadata": {},
     "output_type": "execute_result"
    }
   ],
   "source": [
    "#shape\n",
    "df.shape\n"
   ]
  },
  {
   "cell_type": "code",
   "execution_count": null,
   "metadata": {},
   "outputs": [
    {
     "name": "stdout",
     "output_type": "stream",
     "text": [
      "<class 'pandas.core.frame.DataFrame'>\n",
      "RangeIndex: 10841 entries, 0 to 10840\n",
      "Data columns (total 13 columns):\n",
      " #   Column          Non-Null Count  Dtype  \n",
      "---  ------          --------------  -----  \n",
      " 0   App             10841 non-null  object \n",
      " 1   Category        10841 non-null  object \n",
      " 2   Rating          9367 non-null   float64\n",
      " 3   Reviews         10841 non-null  object \n",
      " 4   Size            10841 non-null  object \n",
      " 5   Installs        10841 non-null  object \n",
      " 6   Type            10840 non-null  object \n",
      " 7   Price           10841 non-null  object \n",
      " 8   Content Rating  10840 non-null  object \n",
      " 9   Genres          10841 non-null  object \n",
      " 10  Last Updated    10841 non-null  object \n",
      " 11  Current Ver     10833 non-null  object \n",
      " 12  Android Ver     10838 non-null  object \n",
      "dtypes: float64(1), object(12)\n",
      "memory usage: 1.1+ MB\n"
     ]
    }
   ],
   "source": [
    "#info\n",
    "df.info()"
   ]
  },
  {
   "cell_type": "markdown",
   "metadata": {},
   "source": [
    "<font size=5>3.Check summary statistics of the dfset. List out the columns that need to be worked upon for model\n",
    "building."
   ]
  },
  {
   "cell_type": "code",
   "execution_count": null,
   "metadata": {},
   "outputs": [
    {
     "data": {
      "text/html": [
       "<div>\n",
       "<style scoped>\n",
       "    .dataframe tbody tr th:only-of-type {\n",
       "        vertical-align: middle;\n",
       "    }\n",
       "\n",
       "    .dataframe tbody tr th {\n",
       "        vertical-align: top;\n",
       "    }\n",
       "\n",
       "    .dataframe thead th {\n",
       "        text-align: right;\n",
       "    }\n",
       "</style>\n",
       "<table border=\"1\" class=\"dataframe\">\n",
       "  <thead>\n",
       "    <tr style=\"text-align: right;\">\n",
       "      <th></th>\n",
       "      <th>Rating</th>\n",
       "    </tr>\n",
       "  </thead>\n",
       "  <tbody>\n",
       "    <tr>\n",
       "      <th>count</th>\n",
       "      <td>9367.000000</td>\n",
       "    </tr>\n",
       "    <tr>\n",
       "      <th>mean</th>\n",
       "      <td>4.193338</td>\n",
       "    </tr>\n",
       "    <tr>\n",
       "      <th>std</th>\n",
       "      <td>0.537431</td>\n",
       "    </tr>\n",
       "    <tr>\n",
       "      <th>min</th>\n",
       "      <td>1.000000</td>\n",
       "    </tr>\n",
       "    <tr>\n",
       "      <th>25%</th>\n",
       "      <td>4.000000</td>\n",
       "    </tr>\n",
       "    <tr>\n",
       "      <th>50%</th>\n",
       "      <td>4.300000</td>\n",
       "    </tr>\n",
       "    <tr>\n",
       "      <th>75%</th>\n",
       "      <td>4.500000</td>\n",
       "    </tr>\n",
       "    <tr>\n",
       "      <th>max</th>\n",
       "      <td>19.000000</td>\n",
       "    </tr>\n",
       "  </tbody>\n",
       "</table>\n",
       "</div>"
      ],
      "text/plain": [
       "            Rating\n",
       "count  9367.000000\n",
       "mean      4.193338\n",
       "std       0.537431\n",
       "min       1.000000\n",
       "25%       4.000000\n",
       "50%       4.300000\n",
       "75%       4.500000\n",
       "max      19.000000"
      ]
     },
     "execution_count": 83,
     "metadata": {},
     "output_type": "execute_result"
    }
   ],
   "source": [
    "# Checking the summary statistics of the numeric variables.\n",
    "df.describe(include=[float,int])"
   ]
  },
  {
   "cell_type": "code",
   "execution_count": null,
   "metadata": {},
   "outputs": [
    {
     "data": {
      "text/html": [
       "<div>\n",
       "<style scoped>\n",
       "    .dataframe tbody tr th:only-of-type {\n",
       "        vertical-align: middle;\n",
       "    }\n",
       "\n",
       "    .dataframe tbody tr th {\n",
       "        vertical-align: top;\n",
       "    }\n",
       "\n",
       "    .dataframe thead th {\n",
       "        text-align: right;\n",
       "    }\n",
       "</style>\n",
       "<table border=\"1\" class=\"dataframe\">\n",
       "  <thead>\n",
       "    <tr style=\"text-align: right;\">\n",
       "      <th></th>\n",
       "      <th>count</th>\n",
       "      <th>unique</th>\n",
       "      <th>top</th>\n",
       "      <th>freq</th>\n",
       "    </tr>\n",
       "  </thead>\n",
       "  <tbody>\n",
       "    <tr>\n",
       "      <th>App</th>\n",
       "      <td>10841</td>\n",
       "      <td>9660</td>\n",
       "      <td>ROBLOX</td>\n",
       "      <td>9</td>\n",
       "    </tr>\n",
       "    <tr>\n",
       "      <th>Category</th>\n",
       "      <td>10841</td>\n",
       "      <td>34</td>\n",
       "      <td>FAMILY</td>\n",
       "      <td>1972</td>\n",
       "    </tr>\n",
       "    <tr>\n",
       "      <th>Reviews</th>\n",
       "      <td>10841</td>\n",
       "      <td>6002</td>\n",
       "      <td>0</td>\n",
       "      <td>596</td>\n",
       "    </tr>\n",
       "    <tr>\n",
       "      <th>Size</th>\n",
       "      <td>10841</td>\n",
       "      <td>462</td>\n",
       "      <td>Varies with device</td>\n",
       "      <td>1695</td>\n",
       "    </tr>\n",
       "    <tr>\n",
       "      <th>Installs</th>\n",
       "      <td>10841</td>\n",
       "      <td>22</td>\n",
       "      <td>1,000,000+</td>\n",
       "      <td>1579</td>\n",
       "    </tr>\n",
       "    <tr>\n",
       "      <th>Type</th>\n",
       "      <td>10840</td>\n",
       "      <td>3</td>\n",
       "      <td>Free</td>\n",
       "      <td>10039</td>\n",
       "    </tr>\n",
       "    <tr>\n",
       "      <th>Price</th>\n",
       "      <td>10841</td>\n",
       "      <td>93</td>\n",
       "      <td>0</td>\n",
       "      <td>10040</td>\n",
       "    </tr>\n",
       "    <tr>\n",
       "      <th>Content Rating</th>\n",
       "      <td>10840</td>\n",
       "      <td>6</td>\n",
       "      <td>Everyone</td>\n",
       "      <td>8714</td>\n",
       "    </tr>\n",
       "    <tr>\n",
       "      <th>Genres</th>\n",
       "      <td>10841</td>\n",
       "      <td>120</td>\n",
       "      <td>Tools</td>\n",
       "      <td>842</td>\n",
       "    </tr>\n",
       "    <tr>\n",
       "      <th>Last Updated</th>\n",
       "      <td>10841</td>\n",
       "      <td>1378</td>\n",
       "      <td>August 3, 2018</td>\n",
       "      <td>326</td>\n",
       "    </tr>\n",
       "    <tr>\n",
       "      <th>Current Ver</th>\n",
       "      <td>10833</td>\n",
       "      <td>2784</td>\n",
       "      <td>Varies with device</td>\n",
       "      <td>1459</td>\n",
       "    </tr>\n",
       "    <tr>\n",
       "      <th>Android Ver</th>\n",
       "      <td>10838</td>\n",
       "      <td>33</td>\n",
       "      <td>4.1 and up</td>\n",
       "      <td>2451</td>\n",
       "    </tr>\n",
       "  </tbody>\n",
       "</table>\n",
       "</div>"
      ],
      "text/plain": [
       "                count unique                 top   freq\n",
       "App             10841   9660              ROBLOX      9\n",
       "Category        10841     34              FAMILY   1972\n",
       "Reviews         10841   6002                   0    596\n",
       "Size            10841    462  Varies with device   1695\n",
       "Installs        10841     22          1,000,000+   1579\n",
       "Type            10840      3                Free  10039\n",
       "Price           10841     93                   0  10040\n",
       "Content Rating  10840      6            Everyone   8714\n",
       "Genres          10841    120               Tools    842\n",
       "Last Updated    10841   1378      August 3, 2018    326\n",
       "Current Ver     10833   2784  Varies with device   1459\n",
       "Android Ver     10838     33          4.1 and up   2451"
      ]
     },
     "execution_count": 84,
     "metadata": {},
     "output_type": "execute_result"
    }
   ],
   "source": [
    "# Checking the summary statistics of the object variables.\n",
    "df.describe(include=object).T"
   ]
  },
  {
   "cell_type": "markdown",
   "metadata": {},
   "source": [
    "<font size=5> 4. Check if there are any duplicate records in the dfset? if any drop them."
   ]
  },
  {
   "cell_type": "code",
   "execution_count": null,
   "metadata": {},
   "outputs": [
    {
     "data": {
      "text/html": [
       "<div>\n",
       "<style scoped>\n",
       "    .dataframe tbody tr th:only-of-type {\n",
       "        vertical-align: middle;\n",
       "    }\n",
       "\n",
       "    .dataframe tbody tr th {\n",
       "        vertical-align: top;\n",
       "    }\n",
       "\n",
       "    .dataframe thead th {\n",
       "        text-align: right;\n",
       "    }\n",
       "</style>\n",
       "<table border=\"1\" class=\"dataframe\">\n",
       "  <thead>\n",
       "    <tr style=\"text-align: right;\">\n",
       "      <th></th>\n",
       "      <th>App</th>\n",
       "      <th>Category</th>\n",
       "      <th>Rating</th>\n",
       "      <th>Reviews</th>\n",
       "      <th>Size</th>\n",
       "      <th>Installs</th>\n",
       "      <th>Type</th>\n",
       "      <th>Price</th>\n",
       "      <th>Content Rating</th>\n",
       "      <th>Genres</th>\n",
       "      <th>Last Updated</th>\n",
       "      <th>Current Ver</th>\n",
       "      <th>Android Ver</th>\n",
       "    </tr>\n",
       "  </thead>\n",
       "  <tbody>\n",
       "    <tr>\n",
       "      <th>0</th>\n",
       "      <td>Photo Editor &amp; Candy Camera &amp; Grid &amp; ScrapBook</td>\n",
       "      <td>ART_AND_DESIGN</td>\n",
       "      <td>4.1</td>\n",
       "      <td>159</td>\n",
       "      <td>19M</td>\n",
       "      <td>10,000+</td>\n",
       "      <td>Free</td>\n",
       "      <td>0</td>\n",
       "      <td>Everyone</td>\n",
       "      <td>Art &amp; Design</td>\n",
       "      <td>January 7, 2018</td>\n",
       "      <td>1.0.0</td>\n",
       "      <td>4.0.3 and up</td>\n",
       "    </tr>\n",
       "    <tr>\n",
       "      <th>1</th>\n",
       "      <td>Coloring book moana</td>\n",
       "      <td>ART_AND_DESIGN</td>\n",
       "      <td>3.9</td>\n",
       "      <td>967</td>\n",
       "      <td>14M</td>\n",
       "      <td>500,000+</td>\n",
       "      <td>Free</td>\n",
       "      <td>0</td>\n",
       "      <td>Everyone</td>\n",
       "      <td>Art &amp; Design;Pretend Play</td>\n",
       "      <td>January 15, 2018</td>\n",
       "      <td>2.0.0</td>\n",
       "      <td>4.0.3 and up</td>\n",
       "    </tr>\n",
       "    <tr>\n",
       "      <th>2</th>\n",
       "      <td>U Launcher Lite – FREE Live Cool Themes, Hide ...</td>\n",
       "      <td>ART_AND_DESIGN</td>\n",
       "      <td>4.7</td>\n",
       "      <td>87510</td>\n",
       "      <td>8.7M</td>\n",
       "      <td>5,000,000+</td>\n",
       "      <td>Free</td>\n",
       "      <td>0</td>\n",
       "      <td>Everyone</td>\n",
       "      <td>Art &amp; Design</td>\n",
       "      <td>August 1, 2018</td>\n",
       "      <td>1.2.4</td>\n",
       "      <td>4.0.3 and up</td>\n",
       "    </tr>\n",
       "    <tr>\n",
       "      <th>3</th>\n",
       "      <td>Sketch - Draw &amp; Paint</td>\n",
       "      <td>ART_AND_DESIGN</td>\n",
       "      <td>4.5</td>\n",
       "      <td>215644</td>\n",
       "      <td>25M</td>\n",
       "      <td>50,000,000+</td>\n",
       "      <td>Free</td>\n",
       "      <td>0</td>\n",
       "      <td>Teen</td>\n",
       "      <td>Art &amp; Design</td>\n",
       "      <td>June 8, 2018</td>\n",
       "      <td>Varies with device</td>\n",
       "      <td>4.2 and up</td>\n",
       "    </tr>\n",
       "    <tr>\n",
       "      <th>4</th>\n",
       "      <td>Pixel Draw - Number Art Coloring Book</td>\n",
       "      <td>ART_AND_DESIGN</td>\n",
       "      <td>4.3</td>\n",
       "      <td>967</td>\n",
       "      <td>2.8M</td>\n",
       "      <td>100,000+</td>\n",
       "      <td>Free</td>\n",
       "      <td>0</td>\n",
       "      <td>Everyone</td>\n",
       "      <td>Art &amp; Design;Creativity</td>\n",
       "      <td>June 20, 2018</td>\n",
       "      <td>1.1</td>\n",
       "      <td>4.4 and up</td>\n",
       "    </tr>\n",
       "    <tr>\n",
       "      <th>...</th>\n",
       "      <td>...</td>\n",
       "      <td>...</td>\n",
       "      <td>...</td>\n",
       "      <td>...</td>\n",
       "      <td>...</td>\n",
       "      <td>...</td>\n",
       "      <td>...</td>\n",
       "      <td>...</td>\n",
       "      <td>...</td>\n",
       "      <td>...</td>\n",
       "      <td>...</td>\n",
       "      <td>...</td>\n",
       "      <td>...</td>\n",
       "    </tr>\n",
       "    <tr>\n",
       "      <th>10836</th>\n",
       "      <td>Sya9a Maroc - FR</td>\n",
       "      <td>FAMILY</td>\n",
       "      <td>4.5</td>\n",
       "      <td>38</td>\n",
       "      <td>53M</td>\n",
       "      <td>5,000+</td>\n",
       "      <td>Free</td>\n",
       "      <td>0</td>\n",
       "      <td>Everyone</td>\n",
       "      <td>Education</td>\n",
       "      <td>July 25, 2017</td>\n",
       "      <td>1.48</td>\n",
       "      <td>4.1 and up</td>\n",
       "    </tr>\n",
       "    <tr>\n",
       "      <th>10837</th>\n",
       "      <td>Fr. Mike Schmitz Audio Teachings</td>\n",
       "      <td>FAMILY</td>\n",
       "      <td>5.0</td>\n",
       "      <td>4</td>\n",
       "      <td>3.6M</td>\n",
       "      <td>100+</td>\n",
       "      <td>Free</td>\n",
       "      <td>0</td>\n",
       "      <td>Everyone</td>\n",
       "      <td>Education</td>\n",
       "      <td>July 6, 2018</td>\n",
       "      <td>1</td>\n",
       "      <td>4.1 and up</td>\n",
       "    </tr>\n",
       "    <tr>\n",
       "      <th>10838</th>\n",
       "      <td>Parkinson Exercices FR</td>\n",
       "      <td>MEDICAL</td>\n",
       "      <td>NaN</td>\n",
       "      <td>3</td>\n",
       "      <td>9.5M</td>\n",
       "      <td>1,000+</td>\n",
       "      <td>Free</td>\n",
       "      <td>0</td>\n",
       "      <td>Everyone</td>\n",
       "      <td>Medical</td>\n",
       "      <td>January 20, 2017</td>\n",
       "      <td>1</td>\n",
       "      <td>2.2 and up</td>\n",
       "    </tr>\n",
       "    <tr>\n",
       "      <th>10839</th>\n",
       "      <td>The SCP Foundation DB fr nn5n</td>\n",
       "      <td>BOOKS_AND_REFERENCE</td>\n",
       "      <td>4.5</td>\n",
       "      <td>114</td>\n",
       "      <td>Varies with device</td>\n",
       "      <td>1,000+</td>\n",
       "      <td>Free</td>\n",
       "      <td>0</td>\n",
       "      <td>Mature 17+</td>\n",
       "      <td>Books &amp; Reference</td>\n",
       "      <td>January 19, 2015</td>\n",
       "      <td>Varies with device</td>\n",
       "      <td>Varies with device</td>\n",
       "    </tr>\n",
       "    <tr>\n",
       "      <th>10840</th>\n",
       "      <td>iHoroscope - 2018 Daily Horoscope &amp; Astrology</td>\n",
       "      <td>LIFESTYLE</td>\n",
       "      <td>4.5</td>\n",
       "      <td>398307</td>\n",
       "      <td>19M</td>\n",
       "      <td>10,000,000+</td>\n",
       "      <td>Free</td>\n",
       "      <td>0</td>\n",
       "      <td>Everyone</td>\n",
       "      <td>Lifestyle</td>\n",
       "      <td>July 25, 2018</td>\n",
       "      <td>Varies with device</td>\n",
       "      <td>Varies with device</td>\n",
       "    </tr>\n",
       "  </tbody>\n",
       "</table>\n",
       "<p>10358 rows × 13 columns</p>\n",
       "</div>"
      ],
      "text/plain": [
       "                                                     App             Category  \\\n",
       "0         Photo Editor & Candy Camera & Grid & ScrapBook       ART_AND_DESIGN   \n",
       "1                                    Coloring book moana       ART_AND_DESIGN   \n",
       "2      U Launcher Lite – FREE Live Cool Themes, Hide ...       ART_AND_DESIGN   \n",
       "3                                  Sketch - Draw & Paint       ART_AND_DESIGN   \n",
       "4                  Pixel Draw - Number Art Coloring Book       ART_AND_DESIGN   \n",
       "...                                                  ...                  ...   \n",
       "10836                                   Sya9a Maroc - FR               FAMILY   \n",
       "10837                   Fr. Mike Schmitz Audio Teachings               FAMILY   \n",
       "10838                             Parkinson Exercices FR              MEDICAL   \n",
       "10839                      The SCP Foundation DB fr nn5n  BOOKS_AND_REFERENCE   \n",
       "10840      iHoroscope - 2018 Daily Horoscope & Astrology            LIFESTYLE   \n",
       "\n",
       "       Rating Reviews                Size     Installs  Type Price  \\\n",
       "0         4.1     159                 19M      10,000+  Free     0   \n",
       "1         3.9     967                 14M     500,000+  Free     0   \n",
       "2         4.7   87510                8.7M   5,000,000+  Free     0   \n",
       "3         4.5  215644                 25M  50,000,000+  Free     0   \n",
       "4         4.3     967                2.8M     100,000+  Free     0   \n",
       "...       ...     ...                 ...          ...   ...   ...   \n",
       "10836     4.5      38                 53M       5,000+  Free     0   \n",
       "10837     5.0       4                3.6M         100+  Free     0   \n",
       "10838     NaN       3                9.5M       1,000+  Free     0   \n",
       "10839     4.5     114  Varies with device       1,000+  Free     0   \n",
       "10840     4.5  398307                 19M  10,000,000+  Free     0   \n",
       "\n",
       "      Content Rating                     Genres      Last Updated  \\\n",
       "0           Everyone               Art & Design   January 7, 2018   \n",
       "1           Everyone  Art & Design;Pretend Play  January 15, 2018   \n",
       "2           Everyone               Art & Design    August 1, 2018   \n",
       "3               Teen               Art & Design      June 8, 2018   \n",
       "4           Everyone    Art & Design;Creativity     June 20, 2018   \n",
       "...              ...                        ...               ...   \n",
       "10836       Everyone                  Education     July 25, 2017   \n",
       "10837       Everyone                  Education      July 6, 2018   \n",
       "10838       Everyone                    Medical  January 20, 2017   \n",
       "10839     Mature 17+          Books & Reference  January 19, 2015   \n",
       "10840       Everyone                  Lifestyle     July 25, 2018   \n",
       "\n",
       "              Current Ver         Android Ver  \n",
       "0                   1.0.0        4.0.3 and up  \n",
       "1                   2.0.0        4.0.3 and up  \n",
       "2                   1.2.4        4.0.3 and up  \n",
       "3      Varies with device          4.2 and up  \n",
       "4                     1.1          4.4 and up  \n",
       "...                   ...                 ...  \n",
       "10836                1.48          4.1 and up  \n",
       "10837                   1          4.1 and up  \n",
       "10838                   1          2.2 and up  \n",
       "10839  Varies with device  Varies with device  \n",
       "10840  Varies with device  Varies with device  \n",
       "\n",
       "[10358 rows x 13 columns]"
      ]
     },
     "execution_count": 85,
     "metadata": {},
     "output_type": "execute_result"
    }
   ],
   "source": [
    "df=df.drop_duplicates(subset=None, keep='first')\n",
    "df"
   ]
  },
  {
   "cell_type": "code",
   "execution_count": null,
   "metadata": {},
   "outputs": [],
   "source": [
    "df.drop_duplicates(inplace=True)"
   ]
  },
  {
   "cell_type": "code",
   "execution_count": null,
   "metadata": {},
   "outputs": [
    {
     "data": {
      "text/plain": [
       "array([False])"
      ]
     },
     "execution_count": 87,
     "metadata": {},
     "output_type": "execute_result"
    }
   ],
   "source": [
    "df.duplicated().unique()"
   ]
  },
  {
   "cell_type": "markdown",
   "metadata": {},
   "source": [
    "### 5.Check the unique categories of the column 'Category', Is there any invalid category? If yes, drop them.\n"
   ]
  },
  {
   "cell_type": "code",
   "execution_count": null,
   "metadata": {},
   "outputs": [
    {
     "data": {
      "text/plain": [
       "array(['ART_AND_DESIGN', 'AUTO_AND_VEHICLES', 'BEAUTY',\n",
       "       'BOOKS_AND_REFERENCE', 'BUSINESS', 'COMICS', 'COMMUNICATION',\n",
       "       'DATING', 'EDUCATION', 'ENTERTAINMENT', 'EVENTS', 'FINANCE',\n",
       "       'FOOD_AND_DRINK', 'HEALTH_AND_FITNESS', 'HOUSE_AND_HOME',\n",
       "       'LIBRARIES_AND_DEMO', 'LIFESTYLE', 'GAME', 'FAMILY', 'MEDICAL',\n",
       "       'SOCIAL', 'SHOPPING', 'PHOTOGRAPHY', 'SPORTS', 'TRAVEL_AND_LOCAL',\n",
       "       'TOOLS', 'PERSONALIZATION', 'PRODUCTIVITY', 'PARENTING', 'WEATHER',\n",
       "       'VIDEO_PLAYERS', 'NEWS_AND_MAGAZINES', 'MAPS_AND_NAVIGATION',\n",
       "       '1.9'], dtype=object)"
      ]
     },
     "execution_count": 88,
     "metadata": {},
     "output_type": "execute_result"
    }
   ],
   "source": [
    "df[\"Category\"].unique()"
   ]
  },
  {
   "cell_type": "code",
   "execution_count": null,
   "metadata": {},
   "outputs": [
    {
     "data": {
      "text/html": [
       "<div>\n",
       "<style scoped>\n",
       "    .dataframe tbody tr th:only-of-type {\n",
       "        vertical-align: middle;\n",
       "    }\n",
       "\n",
       "    .dataframe tbody tr th {\n",
       "        vertical-align: top;\n",
       "    }\n",
       "\n",
       "    .dataframe thead th {\n",
       "        text-align: right;\n",
       "    }\n",
       "</style>\n",
       "<table border=\"1\" class=\"dataframe\">\n",
       "  <thead>\n",
       "    <tr style=\"text-align: right;\">\n",
       "      <th></th>\n",
       "      <th>App</th>\n",
       "      <th>Category</th>\n",
       "      <th>Rating</th>\n",
       "      <th>Reviews</th>\n",
       "      <th>Size</th>\n",
       "      <th>Installs</th>\n",
       "      <th>Type</th>\n",
       "      <th>Price</th>\n",
       "      <th>Content Rating</th>\n",
       "      <th>Genres</th>\n",
       "      <th>Last Updated</th>\n",
       "      <th>Current Ver</th>\n",
       "      <th>Android Ver</th>\n",
       "    </tr>\n",
       "  </thead>\n",
       "  <tbody>\n",
       "    <tr>\n",
       "      <th>10472</th>\n",
       "      <td>Life Made WI-Fi Touchscreen Photo Frame</td>\n",
       "      <td>1.9</td>\n",
       "      <td>19.0</td>\n",
       "      <td>3.0M</td>\n",
       "      <td>1,000+</td>\n",
       "      <td>Free</td>\n",
       "      <td>0</td>\n",
       "      <td>Everyone</td>\n",
       "      <td>NaN</td>\n",
       "      <td>February 11, 2018</td>\n",
       "      <td>1.0.19</td>\n",
       "      <td>4.0 and up</td>\n",
       "      <td>NaN</td>\n",
       "    </tr>\n",
       "  </tbody>\n",
       "</table>\n",
       "</div>"
      ],
      "text/plain": [
       "                                           App Category  Rating Reviews  \\\n",
       "10472  Life Made WI-Fi Touchscreen Photo Frame      1.9    19.0    3.0M   \n",
       "\n",
       "         Size Installs Type     Price Content Rating             Genres  \\\n",
       "10472  1,000+     Free    0  Everyone            NaN  February 11, 2018   \n",
       "\n",
       "      Last Updated Current Ver Android Ver  \n",
       "10472       1.0.19  4.0 and up         NaN  "
      ]
     },
     "execution_count": 89,
     "metadata": {},
     "output_type": "execute_result"
    }
   ],
   "source": [
    "df[(df.Category==\"1.9\")]"
   ]
  },
  {
   "cell_type": "code",
   "execution_count": null,
   "metadata": {},
   "outputs": [
    {
     "data": {
      "text/plain": [
       "array(['ART_AND_DESIGN', 'AUTO_AND_VEHICLES', 'BEAUTY',\n",
       "       'BOOKS_AND_REFERENCE', 'BUSINESS', 'COMICS', 'COMMUNICATION',\n",
       "       'DATING', 'EDUCATION', 'ENTERTAINMENT', 'EVENTS', 'FINANCE',\n",
       "       'FOOD_AND_DRINK', 'HEALTH_AND_FITNESS', 'HOUSE_AND_HOME',\n",
       "       'LIBRARIES_AND_DEMO', 'LIFESTYLE', 'GAME', 'FAMILY', 'MEDICAL',\n",
       "       'SOCIAL', 'SHOPPING', 'PHOTOGRAPHY', 'SPORTS', 'TRAVEL_AND_LOCAL',\n",
       "       'TOOLS', 'PERSONALIZATION', 'PRODUCTIVITY', 'PARENTING', 'WEATHER',\n",
       "       'VIDEO_PLAYERS', 'NEWS_AND_MAGAZINES', 'MAPS_AND_NAVIGATION',\n",
       "       '1.9'], dtype=object)"
      ]
     },
     "execution_count": 90,
     "metadata": {},
     "output_type": "execute_result"
    }
   ],
   "source": [
    "df[\"Category\"].unique()"
   ]
  },
  {
   "cell_type": "code",
   "execution_count": null,
   "metadata": {},
   "outputs": [
    {
     "data": {
      "text/plain": [
       "array(['ART_AND_DESIGN', 'AUTO_AND_VEHICLES', 'BEAUTY',\n",
       "       'BOOKS_AND_REFERENCE', 'BUSINESS', 'COMICS', 'COMMUNICATION',\n",
       "       'DATING', 'EDUCATION', 'ENTERTAINMENT', 'EVENTS', 'FINANCE',\n",
       "       'FOOD_AND_DRINK', 'HEALTH_AND_FITNESS', 'HOUSE_AND_HOME',\n",
       "       'LIBRARIES_AND_DEMO', 'LIFESTYLE', 'GAME', 'FAMILY', 'MEDICAL',\n",
       "       'SOCIAL', 'SHOPPING', 'PHOTOGRAPHY', 'SPORTS', 'TRAVEL_AND_LOCAL',\n",
       "       'TOOLS', 'PERSONALIZATION', 'PRODUCTIVITY', 'PARENTING', 'WEATHER',\n",
       "       'VIDEO_PLAYERS', 'NEWS_AND_MAGAZINES', 'MAPS_AND_NAVIGATION',\n",
       "       '1.9'], dtype=object)"
      ]
     },
     "execution_count": 91,
     "metadata": {},
     "output_type": "execute_result"
    }
   ],
   "source": [
    "df[\"Category\"].unique()"
   ]
  },
  {
   "cell_type": "markdown",
   "metadata": {},
   "source": [
    "### 6.Check if there are missing values present in the column Rating, If any? drop them and and create a new column as 'Rating_category' by converting ratings to high and low categories (>3.5 is high rest low).\n",
    "\n"
   ]
  },
  {
   "cell_type": "code",
   "execution_count": null,
   "metadata": {},
   "outputs": [
    {
     "data": {
      "text/plain": [
       "True"
      ]
     },
     "execution_count": 92,
     "metadata": {},
     "output_type": "execute_result"
    }
   ],
   "source": [
    "#checking missing values\n",
    "df[\"Rating\"].isnull().any()"
   ]
  },
  {
   "cell_type": "code",
   "execution_count": null,
   "metadata": {},
   "outputs": [],
   "source": [
    "#checking null values\n",
    "df.dropna(subset=[\"Rating\"],inplace=True)"
   ]
  },
  {
   "cell_type": "code",
   "execution_count": null,
   "metadata": {},
   "outputs": [],
   "source": [
    "# Creating a new column \n",
    "df[\"Rating_Category\"]=np.where(df[\"Rating\"]>3.5,\"High\",\"Low\")"
   ]
  },
  {
   "cell_type": "code",
   "execution_count": null,
   "metadata": {},
   "outputs": [
    {
     "data": {
      "text/plain": [
       "array(['High', 'Low'], dtype=object)"
      ]
     },
     "execution_count": 95,
     "metadata": {},
     "output_type": "execute_result"
    }
   ],
   "source": [
    "# Checking the unique values\n",
    "df[\"Rating_Category\"].unique()"
   ]
  },
  {
   "cell_type": "markdown",
   "metadata": {},
   "source": [
    "### 7.Check the distribution of the newly created column 'Rating_category' and comment on the distribution."
   ]
  },
  {
   "cell_type": "code",
   "execution_count": null,
   "metadata": {},
   "outputs": [
    {
     "data": {
      "text/plain": [
       "Rating_Category\n",
       "High    90.1\n",
       "Low      9.9\n",
       "Name: count, dtype: float64"
      ]
     },
     "execution_count": 96,
     "metadata": {},
     "output_type": "execute_result"
    }
   ],
   "source": [
    "round(df[\"Rating_Category\"].value_counts()/len(df)*100,2)"
   ]
  },
  {
   "cell_type": "markdown",
   "metadata": {},
   "source": [
    "### 8.Convert the column \"Reviews'' to numeric df type and check the presence of outliers in the column and handle the outliers using a transformation approach. (Hint: Use log transformation).\n",
    "\n"
   ]
  },
  {
   "cell_type": "code",
   "execution_count": null,
   "metadata": {},
   "outputs": [
    {
     "data": {
      "text/plain": [
       "dtype('O')"
      ]
     },
     "execution_count": 97,
     "metadata": {},
     "output_type": "execute_result"
    }
   ],
   "source": [
    "# Checking the df type of Reviews column\n",
    "df['Reviews'].dtype"
   ]
  },
  {
   "cell_type": "code",
   "execution_count": null,
   "metadata": {},
   "outputs": [],
   "source": [
    "# Remove Non-Numeric Characters\n",
    "df['Reviews'] = df['Reviews'].str.replace('[^\\d.]', '', regex=True)\n"
   ]
  },
  {
   "cell_type": "code",
   "execution_count": null,
   "metadata": {},
   "outputs": [],
   "source": [
    "# Coverting the \"Reviews\" column to numeric df.\n",
    "df[\"Reviews\"]=df[\"Reviews\"].astype(float)"
   ]
  },
  {
   "cell_type": "code",
   "execution_count": null,
   "metadata": {},
   "outputs": [
    {
     "data": {
      "text/plain": [
       "dtype('float64')"
      ]
     },
     "execution_count": 100,
     "metadata": {},
     "output_type": "execute_result"
    }
   ],
   "source": [
    "# Checking the df type to make sure it has changed from object to numeric df type.\n",
    "df['Reviews'].dtype"
   ]
  },
  {
   "cell_type": "code",
   "execution_count": null,
   "metadata": {},
   "outputs": [
    {
     "data": {
      "image/png": "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",
      "text/plain": [
       "<Figure size 640x480 with 1 Axes>"
      ]
     },
     "metadata": {},
     "output_type": "display_data"
    }
   ],
   "source": [
    "# Checking the presence of the outliers using boxplot from seaborn library.\n",
    "sns.boxplot(df=df,x=\"Reviews\")\n",
    "plt.show()"
   ]
  },
  {
   "cell_type": "markdown",
   "metadata": {},
   "source": [
    "As we found out with box plot that there are alot of outliers, we will handle the outliers with the help of log transformation."
   ]
  },
  {
   "cell_type": "code",
   "execution_count": null,
   "metadata": {},
   "outputs": [],
   "source": [
    "df[\"Reviews\"]=np.log(df[\"Reviews\"])"
   ]
  },
  {
   "cell_type": "code",
   "execution_count": null,
   "metadata": {},
   "outputs": [
    {
     "data": {
      "text/plain": [
       "0     5.068904\n",
       "1     6.874198\n",
       "2    11.379508\n",
       "3    12.281384\n",
       "4     6.874198\n",
       "Name: Reviews, dtype: float64"
      ]
     },
     "execution_count": 103,
     "metadata": {},
     "output_type": "execute_result"
    }
   ],
   "source": [
    "# reveiw column after log transformation\n",
    "df[\"Reviews\"].head()\n"
   ]
  },
  {
   "cell_type": "code",
   "execution_count": null,
   "metadata": {},
   "outputs": [
    {
     "data": {
      "image/png": "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",
      "text/plain": [
       "<Figure size 640x480 with 1 Axes>"
      ]
     },
     "metadata": {},
     "output_type": "display_data"
    }
   ],
   "source": [
    "#checking if the outliers are removed by using boxplot\n",
    "sns.boxplot(df=df,x=\"Reviews\")\n",
    "plt.show()"
   ]
  },
  {
   "cell_type": "markdown",
   "metadata": {},
   "source": [
    "### Question 9.The column 'Size' contains alphanumeric values, treat the non numeric df and convert the column into suitable df type. (hint: Replace M with 1 million and K with 1 thousand, and drop the entries where size='Varies with device')"
   ]
  },
  {
   "cell_type": "code",
   "execution_count": null,
   "metadata": {},
   "outputs": [
    {
     "data": {
      "text/plain": [
       "Size\n",
       "Varies with device    1468\n",
       "14M                    154\n",
       "13M                    152\n",
       "12M                    151\n",
       "11M                    150\n",
       "                      ... \n",
       "383k                     1\n",
       "454k                     1\n",
       "812k                     1\n",
       "442k                     1\n",
       "619k                     1\n",
       "Name: count, Length: 415, dtype: int64"
      ]
     },
     "execution_count": 105,
     "metadata": {},
     "output_type": "execute_result"
    }
   ],
   "source": [
    "df['Size'].value_counts()"
   ]
  },
  {
   "cell_type": "code",
   "execution_count": null,
   "metadata": {},
   "outputs": [],
   "source": [
    "#dropping 'varies with device'\n",
    "df = df[df['Size'] != 'Varies with device']"
   ]
  },
  {
   "cell_type": "code",
   "execution_count": null,
   "metadata": {},
   "outputs": [
    {
     "data": {
      "text/plain": [
       "Size\n",
       "14M     154\n",
       "13M     152\n",
       "12M     151\n",
       "11M     150\n",
       "15M     149\n",
       "       ... \n",
       "383k      1\n",
       "454k      1\n",
       "812k      1\n",
       "442k      1\n",
       "619k      1\n",
       "Name: count, Length: 414, dtype: int64"
      ]
     },
     "execution_count": 107,
     "metadata": {},
     "output_type": "execute_result"
    }
   ],
   "source": [
    "df['Size'].value_counts()"
   ]
  },
  {
   "cell_type": "code",
   "execution_count": null,
   "metadata": {},
   "outputs": [
    {
     "name": "stderr",
     "output_type": "stream",
     "text": [
      "C:\\Users\\Mohit\\AppData\\Local\\Temp\\ipykernel_892\\3027194401.py:11: SettingWithCopyWarning: \n",
      "A value is trying to be set on a copy of a slice from a DataFrame\n",
      "\n",
      "See the caveats in the documentation: https://pandas.pydata.org/pandas-docs/stable/user_guide/indexing.html#returning-a-view-versus-a-copy\n",
      "  df.dropna(subset=['Size'],inplace=True)\n"
     ]
    }
   ],
   "source": [
    "# Looping through the column and doing the replacements.\n",
    "for index, col in enumerate(df['Size']):\n",
    "    if 'M' in col:\n",
    "        df.iloc[index, df.columns.get_loc('Size')] = round(float(col.split('M')[0])) * 1000000\n",
    "    elif 'k' in col:\n",
    "        df.iloc[index, df.columns.get_loc('Size')] = round(float(col.split('k')[0])) * 1000\n",
    "    elif col == 'Varies with device':\n",
    "        df.iloc[index, df.columns.get_loc('Size')] = None\n",
    "\n",
    "# Dropping the \"Varies with device\"\n",
    "df.dropna(subset=['Size'],inplace=True)"
   ]
  },
  {
   "cell_type": "code",
   "execution_count": null,
   "metadata": {},
   "outputs": [
    {
     "data": {
      "text/html": [
       "<div>\n",
       "<style scoped>\n",
       "    .dataframe tbody tr th:only-of-type {\n",
       "        vertical-align: middle;\n",
       "    }\n",
       "\n",
       "    .dataframe tbody tr th {\n",
       "        vertical-align: top;\n",
       "    }\n",
       "\n",
       "    .dataframe thead th {\n",
       "        text-align: right;\n",
       "    }\n",
       "</style>\n",
       "<table border=\"1\" class=\"dataframe\">\n",
       "  <thead>\n",
       "    <tr style=\"text-align: right;\">\n",
       "      <th></th>\n",
       "      <th>App</th>\n",
       "      <th>Category</th>\n",
       "      <th>Rating</th>\n",
       "      <th>Reviews</th>\n",
       "      <th>Size</th>\n",
       "      <th>Installs</th>\n",
       "      <th>Type</th>\n",
       "      <th>Price</th>\n",
       "      <th>Content Rating</th>\n",
       "      <th>Genres</th>\n",
       "      <th>Last Updated</th>\n",
       "      <th>Current Ver</th>\n",
       "      <th>Android Ver</th>\n",
       "      <th>Rating_Category</th>\n",
       "    </tr>\n",
       "  </thead>\n",
       "  <tbody>\n",
       "    <tr>\n",
       "      <th>2675</th>\n",
       "      <td>CJmall</td>\n",
       "      <td>SHOPPING</td>\n",
       "      <td>3.6</td>\n",
       "      <td>9.812030</td>\n",
       "      <td>10000000</td>\n",
       "      <td>10,000,000+</td>\n",
       "      <td>Free</td>\n",
       "      <td>0</td>\n",
       "      <td>Everyone</td>\n",
       "      <td>Shopping</td>\n",
       "      <td>August 6, 2018</td>\n",
       "      <td>6.3.8</td>\n",
       "      <td>4.1 and up</td>\n",
       "      <td>High</td>\n",
       "    </tr>\n",
       "    <tr>\n",
       "      <th>8014</th>\n",
       "      <td>Morse Player</td>\n",
       "      <td>FAMILY</td>\n",
       "      <td>5.0</td>\n",
       "      <td>2.484907</td>\n",
       "      <td>2000000</td>\n",
       "      <td>100+</td>\n",
       "      <td>Paid</td>\n",
       "      <td>$1.99</td>\n",
       "      <td>Everyone</td>\n",
       "      <td>Education</td>\n",
       "      <td>January 23, 2017</td>\n",
       "      <td>2.1.1</td>\n",
       "      <td>3.0 and up</td>\n",
       "      <td>High</td>\n",
       "    </tr>\n",
       "    <tr>\n",
       "      <th>4599</th>\n",
       "      <td>DIRECTV Remote App</td>\n",
       "      <td>FAMILY</td>\n",
       "      <td>3.0</td>\n",
       "      <td>6.173786</td>\n",
       "      <td>19000000</td>\n",
       "      <td>1,000,000+</td>\n",
       "      <td>Free</td>\n",
       "      <td>0</td>\n",
       "      <td>Everyone</td>\n",
       "      <td>Entertainment</td>\n",
       "      <td>August 31, 2017</td>\n",
       "      <td>2.4</td>\n",
       "      <td>6.0 and up</td>\n",
       "      <td>Low</td>\n",
       "    </tr>\n",
       "    <tr>\n",
       "      <th>9844</th>\n",
       "      <td>Google News</td>\n",
       "      <td>NEWS_AND_MAGAZINES</td>\n",
       "      <td>3.9</td>\n",
       "      <td>13.685476</td>\n",
       "      <td>13000000</td>\n",
       "      <td>1,000,000,000+</td>\n",
       "      <td>Free</td>\n",
       "      <td>0</td>\n",
       "      <td>Teen</td>\n",
       "      <td>News &amp; Magazines</td>\n",
       "      <td>August 1, 2018</td>\n",
       "      <td>5.2.0</td>\n",
       "      <td>4.4 and up</td>\n",
       "      <td>High</td>\n",
       "    </tr>\n",
       "    <tr>\n",
       "      <th>8960</th>\n",
       "      <td>DV 2018 Winners Guide</td>\n",
       "      <td>BOOKS_AND_REFERENCE</td>\n",
       "      <td>4.8</td>\n",
       "      <td>2.397895</td>\n",
       "      <td>608000</td>\n",
       "      <td>1,000+</td>\n",
       "      <td>Free</td>\n",
       "      <td>0</td>\n",
       "      <td>Everyone</td>\n",
       "      <td>Books &amp; Reference</td>\n",
       "      <td>July 23, 2017</td>\n",
       "      <td>1.09</td>\n",
       "      <td>4.2 and up</td>\n",
       "      <td>High</td>\n",
       "    </tr>\n",
       "  </tbody>\n",
       "</table>\n",
       "</div>"
      ],
      "text/plain": [
       "                        App             Category  Rating    Reviews      Size  \\\n",
       "2675                 CJmall             SHOPPING     3.6   9.812030  10000000   \n",
       "8014           Morse Player               FAMILY     5.0   2.484907   2000000   \n",
       "4599     DIRECTV Remote App               FAMILY     3.0   6.173786  19000000   \n",
       "9844            Google News   NEWS_AND_MAGAZINES     3.9  13.685476  13000000   \n",
       "8960  DV 2018 Winners Guide  BOOKS_AND_REFERENCE     4.8   2.397895    608000   \n",
       "\n",
       "            Installs  Type  Price Content Rating             Genres  \\\n",
       "2675     10,000,000+  Free      0       Everyone           Shopping   \n",
       "8014            100+  Paid  $1.99       Everyone          Education   \n",
       "4599      1,000,000+  Free      0       Everyone      Entertainment   \n",
       "9844  1,000,000,000+  Free      0           Teen   News & Magazines   \n",
       "8960          1,000+  Free      0       Everyone  Books & Reference   \n",
       "\n",
       "          Last Updated Current Ver Android Ver Rating_Category  \n",
       "2675    August 6, 2018       6.3.8  4.1 and up            High  \n",
       "8014  January 23, 2017       2.1.1  3.0 and up            High  \n",
       "4599   August 31, 2017         2.4  6.0 and up             Low  \n",
       "9844    August 1, 2018       5.2.0  4.4 and up            High  \n",
       "8960     July 23, 2017        1.09  4.2 and up            High  "
      ]
     },
     "execution_count": 109,
     "metadata": {},
     "output_type": "execute_result"
    }
   ],
   "source": [
    "# Checking if all the replacements are done\n",
    "df.sample(5)"
   ]
  },
  {
   "cell_type": "markdown",
   "metadata": {},
   "source": [
    "### Q-10 Check the column 'Installs', treat the unwanted characters and convert the column into a suitable df type.\n",
    "\n"
   ]
  },
  {
   "cell_type": "code",
   "execution_count": null,
   "metadata": {},
   "outputs": [
    {
     "data": {
      "text/plain": [
       "array(['10,000+', '500,000+', '5,000,000+', '50,000,000+', '100,000+',\n",
       "       '50,000+', '1,000,000+', '10,000,000+', '5,000+', '100,000,000+',\n",
       "       '1,000+', '500,000,000+', '100+', '500+', '10+', '1,000,000,000+',\n",
       "       '5+', '50+', '1+', 'Free'], dtype=object)"
      ]
     },
     "execution_count": 110,
     "metadata": {},
     "output_type": "execute_result"
    }
   ],
   "source": [
    "# unique values of the column 'Installs'\n",
    "df[\"Installs\"].unique()"
   ]
  },
  {
   "cell_type": "code",
   "execution_count": null,
   "metadata": {},
   "outputs": [
    {
     "name": "stderr",
     "output_type": "stream",
     "text": [
      "C:\\Users\\Mohit\\AppData\\Local\\Temp\\ipykernel_892\\405994737.py:2: SettingWithCopyWarning: \n",
      "A value is trying to be set on a copy of a slice from a DataFrame.\n",
      "Try using .loc[row_indexer,col_indexer] = value instead\n",
      "\n",
      "See the caveats in the documentation: https://pandas.pydata.org/pandas-docs/stable/user_guide/indexing.html#returning-a-view-versus-a-copy\n",
      "  df['Installs'] = df['Installs'].str.replace(',', '').str.replace('+', '')\n",
      "C:\\Users\\Mohit\\AppData\\Local\\Temp\\ipykernel_892\\405994737.py:5: SettingWithCopyWarning: \n",
      "A value is trying to be set on a copy of a slice from a DataFrame.\n",
      "Try using .loc[row_indexer,col_indexer] = value instead\n",
      "\n",
      "See the caveats in the documentation: https://pandas.pydata.org/pandas-docs/stable/user_guide/indexing.html#returning-a-view-versus-a-copy\n",
      "  df['Installs'] = pd.to_numeric(df['Installs'], errors='coerce')\n"
     ]
    }
   ],
   "source": [
    "# Clean the 'Installs' column by removing non-numeric characters\n",
    "df['Installs'] = df['Installs'].str.replace(',', '').str.replace('+', '')\n",
    "\n",
    "# Convert the cleaned column to integers, setting errors='coerce' to handle non-convertible values\n",
    "df['Installs'] = pd.to_numeric(df['Installs'], errors='coerce')\n"
   ]
  },
  {
   "cell_type": "code",
   "execution_count": null,
   "metadata": {},
   "outputs": [
    {
     "name": "stderr",
     "output_type": "stream",
     "text": [
      "C:\\Users\\Mohit\\AppData\\Local\\Temp\\ipykernel_892\\622529753.py:2: SettingWithCopyWarning: \n",
      "A value is trying to be set on a copy of a slice from a DataFrame\n",
      "\n",
      "See the caveats in the documentation: https://pandas.pydata.org/pandas-docs/stable/user_guide/indexing.html#returning-a-view-versus-a-copy\n",
      "  df['Installs'].fillna(0, inplace=True)\n"
     ]
    }
   ],
   "source": [
    "# Replace NaN values with 0 if needed\n",
    "df['Installs'].fillna(0, inplace=True)"
   ]
  },
  {
   "cell_type": "code",
   "execution_count": null,
   "metadata": {},
   "outputs": [
    {
     "data": {
      "text/plain": [
       "Installs\n",
       "1.000000e+06    1230\n",
       "1.000000e+05    1003\n",
       "1.000000e+04     949\n",
       "1.000000e+07     762\n",
       "1.000000e+03     675\n",
       "5.000000e+06     493\n",
       "5.000000e+05     471\n",
       "5.000000e+04     432\n",
       "5.000000e+03     414\n",
       "1.000000e+02     297\n",
       "5.000000e+02     195\n",
       "1.000000e+08     192\n",
       "5.000000e+07     144\n",
       "1.000000e+01      67\n",
       "5.000000e+01      56\n",
       "5.000000e+08      24\n",
       "5.000000e+00       9\n",
       "1.000000e+09       8\n",
       "1.000000e+00       3\n",
       "0.000000e+00       1\n",
       "Name: count, dtype: int64"
      ]
     },
     "execution_count": 115,
     "metadata": {},
     "output_type": "execute_result"
    }
   ],
   "source": [
    "df['Installs'].value_counts()"
   ]
  },
  {
   "cell_type": "code",
   "execution_count": null,
   "metadata": {},
   "outputs": [
    {
     "data": {
      "text/plain": [
       "array([1.e+04, 5.e+05, 5.e+06, 5.e+07, 1.e+05, 5.e+04, 1.e+06, 1.e+07,\n",
       "       5.e+03, 1.e+08, 1.e+03, 5.e+08, 1.e+02, 5.e+02, 1.e+01, 1.e+09,\n",
       "       5.e+00, 5.e+01, 1.e+00, 0.e+00])"
      ]
     },
     "execution_count": 116,
     "metadata": {},
     "output_type": "execute_result"
    }
   ],
   "source": [
    "df[\"Installs\"].unique()"
   ]
  },
  {
   "cell_type": "markdown",
   "metadata": {},
   "source": [
    "### Q-11 Check the column 'Price' , remove the unwanted characters and convert the column into a suitable df type."
   ]
  },
  {
   "cell_type": "code",
   "execution_count": null,
   "metadata": {},
   "outputs": [
    {
     "data": {
      "text/plain": [
       "array(['0', '$4.99', '$6.99', '$7.99', '$3.99', '$5.99', '$2.99', '$1.99',\n",
       "       '$9.99', '$0.99', '$9.00', '$5.49', '$10.00', '$24.99', '$11.99',\n",
       "       '$79.99', '$16.99', '$14.99', '$29.99', '$12.99', '$3.49',\n",
       "       '$10.99', '$7.49', '$1.50', '$19.99', '$15.99', '$33.99', '$39.99',\n",
       "       '$2.49', '$4.49', '$1.70', '$1.49', '$3.88', '$399.99', '$17.99',\n",
       "       '$400.00', '$3.02', '$1.76', '$4.84', '$4.77', '$1.61', '$1.59',\n",
       "       '$6.49', '$1.29', '$299.99', '$379.99', '$37.99', '$18.99',\n",
       "       '$389.99', '$8.49', '$1.75', '$14.00', '$2.00', '$3.08', '$2.59',\n",
       "       '$19.40', '$15.46', '$8.99', '$3.04', '$13.99', '$4.29', '$3.28',\n",
       "       '$4.60', '$1.00', '$2.90', '$1.97', '$2.56', 'Everyone', '$1.20'],\n",
       "      dtype=object)"
      ]
     },
     "execution_count": 117,
     "metadata": {},
     "output_type": "execute_result"
    }
   ],
   "source": [
    "#unique values of the column 'Price'\n",
    "df[\"Price\"].unique()"
   ]
  },
  {
   "cell_type": "code",
   "execution_count": null,
   "metadata": {},
   "outputs": [
    {
     "name": "stderr",
     "output_type": "stream",
     "text": [
      "C:\\Users\\Mohit\\AppData\\Local\\Temp\\ipykernel_892\\1895529744.py:2: SettingWithCopyWarning: \n",
      "A value is trying to be set on a copy of a slice from a DataFrame.\n",
      "Try using .loc[row_indexer,col_indexer] = value instead\n",
      "\n",
      "See the caveats in the documentation: https://pandas.pydata.org/pandas-docs/stable/user_guide/indexing.html#returning-a-view-versus-a-copy\n",
      "  df[\"Price\"]=df[\"Price\"].str.replace(\"$\",\"\")\n"
     ]
    }
   ],
   "source": [
    "# Removing '$' from the Price column and converting the df type to float.\n",
    "df[\"Price\"]=df[\"Price\"].str.replace(\"$\",\"\")"
   ]
  },
  {
   "cell_type": "code",
   "execution_count": null,
   "metadata": {},
   "outputs": [
    {
     "name": "stderr",
     "output_type": "stream",
     "text": [
      "C:\\Users\\Mohit\\AppData\\Local\\Temp\\ipykernel_892\\2616896857.py:2: SettingWithCopyWarning: \n",
      "A value is trying to be set on a copy of a slice from a DataFrame.\n",
      "Try using .loc[row_indexer,col_indexer] = value instead\n",
      "\n",
      "See the caveats in the documentation: https://pandas.pydata.org/pandas-docs/stable/user_guide/indexing.html#returning-a-view-versus-a-copy\n",
      "  df['Price'] = df['Price'].str.replace('$', '')  # Remove dollar signs if present\n",
      "C:\\Users\\Mohit\\AppData\\Local\\Temp\\ipykernel_892\\2616896857.py:3: SettingWithCopyWarning: \n",
      "A value is trying to be set on a copy of a slice from a DataFrame.\n",
      "Try using .loc[row_indexer,col_indexer] = value instead\n",
      "\n",
      "See the caveats in the documentation: https://pandas.pydata.org/pandas-docs/stable/user_guide/indexing.html#returning-a-view-versus-a-copy\n",
      "  df['Price'] = df['Price'].str.replace('Everyone', '')  # Remove 'Everyone' if present, replace with empty string\n",
      "C:\\Users\\Mohit\\AppData\\Local\\Temp\\ipykernel_892\\2616896857.py:6: SettingWithCopyWarning: \n",
      "A value is trying to be set on a copy of a slice from a DataFrame.\n",
      "Try using .loc[row_indexer,col_indexer] = value instead\n",
      "\n",
      "See the caveats in the documentation: https://pandas.pydata.org/pandas-docs/stable/user_guide/indexing.html#returning-a-view-versus-a-copy\n",
      "  df['Price'] = pd.to_numeric(df['Price'], errors='coerce')\n"
     ]
    }
   ],
   "source": [
    " # Remove dollar signs if present\n",
    "df['Price'] = df['Price'].str.replace('$', '') \n",
    " # Remove 'Everyone' if present, replace with empty string\n",
    "df['Price'] = df['Price'].str.replace('Everyone', '') \n",
    "df['Price'] = pd.to_numeric(df['Price'], errors='coerce')\n"
   ]
  },
  {
   "cell_type": "code",
   "execution_count": null,
   "metadata": {},
   "outputs": [
    {
     "name": "stderr",
     "output_type": "stream",
     "text": [
      "C:\\Users\\Mohit\\AppData\\Local\\Temp\\ipykernel_892\\2247239638.py:2: SettingWithCopyWarning: \n",
      "A value is trying to be set on a copy of a slice from a DataFrame\n",
      "\n",
      "See the caveats in the documentation: https://pandas.pydata.org/pandas-docs/stable/user_guide/indexing.html#returning-a-view-versus-a-copy\n",
      "  df['Price'].fillna(0, inplace=True)\n"
     ]
    }
   ],
   "source": [
    "# Replacing NaN values with 0\n",
    "df['Price'].fillna(0, inplace=True)"
   ]
  },
  {
   "cell_type": "code",
   "execution_count": null,
   "metadata": {},
   "outputs": [
    {
     "name": "stderr",
     "output_type": "stream",
     "text": [
      "C:\\Users\\Mohit\\AppData\\Local\\Temp\\ipykernel_892\\974689091.py:1: SettingWithCopyWarning: \n",
      "A value is trying to be set on a copy of a slice from a DataFrame.\n",
      "Try using .loc[row_indexer,col_indexer] = value instead\n",
      "\n",
      "See the caveats in the documentation: https://pandas.pydata.org/pandas-docs/stable/user_guide/indexing.html#returning-a-view-versus-a-copy\n",
      "  df[\"Price\"]=df[\"Price\"].astype(float)\n"
     ]
    }
   ],
   "source": [
    "df[\"Price\"]=df[\"Price\"].astype(float)"
   ]
  },
  {
   "cell_type": "code",
   "execution_count": null,
   "metadata": {},
   "outputs": [
    {
     "data": {
      "text/plain": [
       "array([  0.  ,   4.99,   6.99,   7.99,   3.99,   5.99,   2.99,   1.99,\n",
       "         9.99,   0.99,   9.  ,   5.49,  10.  ,  24.99,  11.99,  79.99,\n",
       "        16.99,  14.99,  29.99,  12.99,   3.49,  10.99,   7.49,   1.5 ,\n",
       "        19.99,  15.99,  33.99,  39.99,   2.49,   4.49,   1.7 ,   1.49,\n",
       "         3.88, 399.99,  17.99, 400.  ,   3.02,   1.76,   4.84,   4.77,\n",
       "         1.61,   1.59,   6.49,   1.29, 299.99, 379.99,  37.99,  18.99,\n",
       "       389.99,   8.49,   1.75,  14.  ,   2.  ,   3.08,   2.59,  19.4 ,\n",
       "        15.46,   8.99,   3.04,  13.99,   4.29,   3.28,   4.6 ,   1.  ,\n",
       "         2.9 ,   1.97,   2.56,   1.2 ])"
      ]
     },
     "execution_count": 125,
     "metadata": {},
     "output_type": "execute_result"
    }
   ],
   "source": [
    "# Checking the changes\n",
    "df[\"Price\"].unique()"
   ]
  },
  {
   "cell_type": "markdown",
   "metadata": {},
   "source": [
    "### q-12 Drop the columns which you think redundant for the analysis.(suggestion: drop column 'rating', since we created a new feature from it (i.e. rating_category) and the columns 'App', 'Rating' ,'Genres','Last Updated', 'Current Ver','Android Ver' columns since which are redundant for our analysis)"
   ]
  },
  {
   "cell_type": "code",
   "execution_count": null,
   "metadata": {},
   "outputs": [
    {
     "data": {
      "text/plain": [
       "Index(['App', 'Category', 'Rating', 'Reviews', 'Size', 'Installs', 'Type',\n",
       "       'Price', 'Content Rating', 'Genres', 'Last Updated', 'Current Ver',\n",
       "       'Android Ver', 'Rating_Category'],\n",
       "      dtype='object')"
      ]
     },
     "execution_count": 126,
     "metadata": {},
     "output_type": "execute_result"
    }
   ],
   "source": [
    "df.columns"
   ]
  },
  {
   "cell_type": "code",
   "execution_count": null,
   "metadata": {},
   "outputs": [
    {
     "name": "stderr",
     "output_type": "stream",
     "text": [
      "C:\\Users\\Mohit\\AppData\\Local\\Temp\\ipykernel_892\\3295643085.py:2: SettingWithCopyWarning: \n",
      "A value is trying to be set on a copy of a slice from a DataFrame\n",
      "\n",
      "See the caveats in the documentation: https://pandas.pydata.org/pandas-docs/stable/user_guide/indexing.html#returning-a-view-versus-a-copy\n",
      "  df.drop([\"App\",\"Rating\",\"Genres\",\"Last Updated\",\"Current Ver\",\"Android Ver\"],axis=1,inplace=True)\n"
     ]
    }
   ],
   "source": [
    "# Dropping all the columns \n",
    "df.drop([\"App\",\"Rating\",\"Genres\",\"Last Updated\",\"Current Ver\",\"Android Ver\"],axis=1,inplace=True)"
   ]
  },
  {
   "cell_type": "code",
   "execution_count": null,
   "metadata": {},
   "outputs": [
    {
     "data": {
      "text/plain": [
       "Index(['Category', 'Reviews', 'Size', 'Installs', 'Type', 'Price',\n",
       "       'Content Rating', 'Rating_Category'],\n",
       "      dtype='object')"
      ]
     },
     "execution_count": 128,
     "metadata": {},
     "output_type": "execute_result"
    }
   ],
   "source": [
    "df.columns"
   ]
  },
  {
   "cell_type": "markdown",
   "metadata": {},
   "source": [
    "### Q-13. Encode the categorical columns"
   ]
  },
  {
   "cell_type": "code",
   "execution_count": null,
   "metadata": {},
   "outputs": [
    {
     "name": "stdout",
     "output_type": "stream",
     "text": [
      "Category:  ['ART_AND_DESIGN' 'AUTO_AND_VEHICLES' 'BEAUTY' 'BOOKS_AND_REFERENCE'\n",
      " 'BUSINESS' 'COMICS' 'COMMUNICATION' 'DATING' 'EDUCATION' 'ENTERTAINMENT'\n",
      " 'EVENTS' 'FINANCE' 'FOOD_AND_DRINK' 'HEALTH_AND_FITNESS' 'HOUSE_AND_HOME'\n",
      " 'LIBRARIES_AND_DEMO' 'LIFESTYLE' 'GAME' 'FAMILY' 'MEDICAL' 'SOCIAL'\n",
      " 'SHOPPING' 'PHOTOGRAPHY' 'SPORTS' 'TRAVEL_AND_LOCAL' 'TOOLS'\n",
      " 'PERSONALIZATION' 'PRODUCTIVITY' 'PARENTING' 'WEATHER' 'VIDEO_PLAYERS'\n",
      " 'NEWS_AND_MAGAZINES' 'MAPS_AND_NAVIGATION' '1.9' nan] \n",
      "\n",
      "Size:  [19000000 14000000 9000000 25000000 3000000 6000000 29000000 33000000\n",
      " 28000000 12000000 20000000 21000000 37000000 17000000 39000000 31000000\n",
      " 4000000 23000000 5000000 11000000 24000000 15000000 10000000 1000000\n",
      " 26000000 8000000 56000000 57000000 35000000 54000000 201000 2000000\n",
      " 27000000 7000000 16000000 38000000 32000000 18000000 52000000 30000000\n",
      " 22000000 13000000 73000000 42000000 55000000 23000 51000000 41000000\n",
      " 48000000 46000000 40000000 61000000 66000000 79000 118000 44000000 695000\n",
      " 53000000 45000000 63000000 49000000 77000000 70000000 36000000 84000000\n",
      " 97000000 47000000 556000 526000 76000000 59000000 78000000 72000000\n",
      " 43000000 334000 93000000 65000000 79000000 100000000 58000000 50000000\n",
      " 68000000 64000000 34000000 67000000 60000000 94000000 232000 99000000\n",
      " 624000 95000000 8000 41000 292000 11000 80000000 74000000 62000000\n",
      " 69000000 75000000 98000000 85000000 82000000 96000000 87000000 71000000\n",
      " 86000000 91000000 81000000 92000000 83000000 88000000 704000 862000\n",
      " 899000 378000 266000 375000 975000 980000 89000000 696000 544000 525000\n",
      " 920000 779000 853000 720000 713000 772000 318000 58000 241000 196000\n",
      " 857000 51000 953000 865000 251000 930000 540000 313000 746000 203000\n",
      " 26000 314000 239000 371000 220000 730000 756000 91000 293000 17000 74000\n",
      " 14000 317000 78000 924000 818000 81000 939000 169000 45000 965000\n",
      " 90000000 545000 61000 283000 655000 714000 93000 872000 121000 322000\n",
      " 976000 206000 954000 444000 717000 210000 609000 308000 306000 175000\n",
      " 350000 383000 454000 70000 812000 442000 842000 417000 412000 459000\n",
      " 478000 335000 782000 721000 430000 429000 192000 460000 728000 496000\n",
      " 816000 414000 506000 887000 613000 778000 683000 592000 186000 840000\n",
      " 647000 373000 437000 598000 716000 585000 982000 219000 55000 323000\n",
      " 691000 511000 951000 963000 25000 554000 351000 27000 82000 208000 551000\n",
      " 29000 103000 116000 153000 209000 499000 173000 597000 809000 122000\n",
      " 411000 400000 801000 787000 50000 643000 986000 516000 837000 780000\n",
      " 20000 498000 600000 656000 221000 228000 176000 34000 259000 164000\n",
      " 458000 629000 28000 288000 775000 785000 636000 916000 994000 309000\n",
      " 485000 914000 903000 608000 500000 54000 562000 847000 948000 811000\n",
      " 270000 48000 523000 784000 280000 24000 892000 154000 18000 33000 860000\n",
      " 364000 387000 626000 161000 879000 39000 170000 141000 160000 144000\n",
      " 143000 190000 376000 193000 473000 246000 73000 253000 957000 420000\n",
      " 72000 404000 '1,000+' 470000 226000 240000 89000 234000 257000 861000\n",
      " 467000 676000 552000 582000 619000 nan] \n",
      "\n",
      "Type:  ['Free' 'Paid' '0' nan] \n",
      "\n",
      "Content Rating:  ['Everyone' 'Teen' 'Everyone 10+' 'Mature 17+' 'Adults only 18+' 'Unrated'\n",
      " nan] \n",
      "\n",
      "Rating_Category:  ['High' 'Low' nan] \n",
      "\n"
     ]
    }
   ],
   "source": [
    "# Checking the unique values in columns with df type object.\n",
    "for col in df.select_dtypes([\"object\"]):\n",
    "    print(f\"{col}: \",df[col].unique(),\"\\n\")"
   ]
  },
  {
   "cell_type": "code",
   "execution_count": null,
   "metadata": {},
   "outputs": [],
   "source": [
    "# One-hot encoding for categorical columns\n",
    "columns = df.select_dtypes([\"object\"]).columns\n",
    "for col in columns:\n",
    "    if col != \"Rating_Category\":\n",
    "        encoded_df = pd.get_dummies(df[col], prefix=col, dtype=int)\n",
    "        df = pd.concat([df, encoded_df], axis=1)\n",
    "        df.drop(col, axis=1, inplace=True)\n",
    "le = LabelEncoder()\n",
    "df[\"Rating_Category\"] = le.fit_transform(df[\"Rating_Category\"])\n"
   ]
  },
  {
   "cell_type": "code",
   "execution_count": null,
   "metadata": {},
   "outputs": [
    {
     "data": {
      "text/html": [
       "<div>\n",
       "<style scoped>\n",
       "    .dataframe tbody tr th:only-of-type {\n",
       "        vertical-align: middle;\n",
       "    }\n",
       "\n",
       "    .dataframe tbody tr th {\n",
       "        vertical-align: top;\n",
       "    }\n",
       "\n",
       "    .dataframe thead th {\n",
       "        text-align: right;\n",
       "    }\n",
       "</style>\n",
       "<table border=\"1\" class=\"dataframe\">\n",
       "  <thead>\n",
       "    <tr style=\"text-align: right;\">\n",
       "      <th></th>\n",
       "      <th>Reviews</th>\n",
       "      <th>Installs</th>\n",
       "      <th>Price</th>\n",
       "      <th>Rating_Category</th>\n",
       "      <th>Category_1.9</th>\n",
       "      <th>Category_ART_AND_DESIGN</th>\n",
       "      <th>Category_AUTO_AND_VEHICLES</th>\n",
       "      <th>Category_BEAUTY</th>\n",
       "      <th>Category_BOOKS_AND_REFERENCE</th>\n",
       "      <th>Category_BUSINESS</th>\n",
       "      <th>...</th>\n",
       "      <th>Size_1,000+</th>\n",
       "      <th>Type_0</th>\n",
       "      <th>Type_Free</th>\n",
       "      <th>Type_Paid</th>\n",
       "      <th>Content Rating_Adults only 18+</th>\n",
       "      <th>Content Rating_Everyone</th>\n",
       "      <th>Content Rating_Everyone 10+</th>\n",
       "      <th>Content Rating_Mature 17+</th>\n",
       "      <th>Content Rating_Teen</th>\n",
       "      <th>Content Rating_Unrated</th>\n",
       "    </tr>\n",
       "  </thead>\n",
       "  <tbody>\n",
       "    <tr>\n",
       "      <th>0</th>\n",
       "      <td>5.068904</td>\n",
       "      <td>10000.0</td>\n",
       "      <td>0.0</td>\n",
       "      <td>0</td>\n",
       "      <td>0</td>\n",
       "      <td>1</td>\n",
       "      <td>0</td>\n",
       "      <td>0</td>\n",
       "      <td>0</td>\n",
       "      <td>0</td>\n",
       "      <td>...</td>\n",
       "      <td>0</td>\n",
       "      <td>0</td>\n",
       "      <td>1</td>\n",
       "      <td>0</td>\n",
       "      <td>0</td>\n",
       "      <td>1</td>\n",
       "      <td>0</td>\n",
       "      <td>0</td>\n",
       "      <td>0</td>\n",
       "      <td>0</td>\n",
       "    </tr>\n",
       "    <tr>\n",
       "      <th>1</th>\n",
       "      <td>6.874198</td>\n",
       "      <td>500000.0</td>\n",
       "      <td>0.0</td>\n",
       "      <td>0</td>\n",
       "      <td>0</td>\n",
       "      <td>1</td>\n",
       "      <td>0</td>\n",
       "      <td>0</td>\n",
       "      <td>0</td>\n",
       "      <td>0</td>\n",
       "      <td>...</td>\n",
       "      <td>0</td>\n",
       "      <td>0</td>\n",
       "      <td>1</td>\n",
       "      <td>0</td>\n",
       "      <td>0</td>\n",
       "      <td>1</td>\n",
       "      <td>0</td>\n",
       "      <td>0</td>\n",
       "      <td>0</td>\n",
       "      <td>0</td>\n",
       "    </tr>\n",
       "    <tr>\n",
       "      <th>2</th>\n",
       "      <td>11.379508</td>\n",
       "      <td>5000000.0</td>\n",
       "      <td>0.0</td>\n",
       "      <td>0</td>\n",
       "      <td>0</td>\n",
       "      <td>1</td>\n",
       "      <td>0</td>\n",
       "      <td>0</td>\n",
       "      <td>0</td>\n",
       "      <td>0</td>\n",
       "      <td>...</td>\n",
       "      <td>0</td>\n",
       "      <td>0</td>\n",
       "      <td>1</td>\n",
       "      <td>0</td>\n",
       "      <td>0</td>\n",
       "      <td>1</td>\n",
       "      <td>0</td>\n",
       "      <td>0</td>\n",
       "      <td>0</td>\n",
       "      <td>0</td>\n",
       "    </tr>\n",
       "    <tr>\n",
       "      <th>3</th>\n",
       "      <td>12.281384</td>\n",
       "      <td>50000000.0</td>\n",
       "      <td>0.0</td>\n",
       "      <td>0</td>\n",
       "      <td>0</td>\n",
       "      <td>1</td>\n",
       "      <td>0</td>\n",
       "      <td>0</td>\n",
       "      <td>0</td>\n",
       "      <td>0</td>\n",
       "      <td>...</td>\n",
       "      <td>0</td>\n",
       "      <td>0</td>\n",
       "      <td>1</td>\n",
       "      <td>0</td>\n",
       "      <td>0</td>\n",
       "      <td>0</td>\n",
       "      <td>0</td>\n",
       "      <td>0</td>\n",
       "      <td>1</td>\n",
       "      <td>0</td>\n",
       "    </tr>\n",
       "    <tr>\n",
       "      <th>4</th>\n",
       "      <td>6.874198</td>\n",
       "      <td>100000.0</td>\n",
       "      <td>0.0</td>\n",
       "      <td>0</td>\n",
       "      <td>0</td>\n",
       "      <td>1</td>\n",
       "      <td>0</td>\n",
       "      <td>0</td>\n",
       "      <td>0</td>\n",
       "      <td>0</td>\n",
       "      <td>...</td>\n",
       "      <td>0</td>\n",
       "      <td>0</td>\n",
       "      <td>1</td>\n",
       "      <td>0</td>\n",
       "      <td>0</td>\n",
       "      <td>1</td>\n",
       "      <td>0</td>\n",
       "      <td>0</td>\n",
       "      <td>0</td>\n",
       "      <td>0</td>\n",
       "    </tr>\n",
       "  </tbody>\n",
       "</table>\n",
       "<p>5 rows × 379 columns</p>\n",
       "</div>"
      ],
      "text/plain": [
       "     Reviews    Installs  Price  Rating_Category  Category_1.9  \\\n",
       "0   5.068904     10000.0    0.0                0             0   \n",
       "1   6.874198    500000.0    0.0                0             0   \n",
       "2  11.379508   5000000.0    0.0                0             0   \n",
       "3  12.281384  50000000.0    0.0                0             0   \n",
       "4   6.874198    100000.0    0.0                0             0   \n",
       "\n",
       "   Category_ART_AND_DESIGN  Category_AUTO_AND_VEHICLES  Category_BEAUTY  \\\n",
       "0                        1                           0                0   \n",
       "1                        1                           0                0   \n",
       "2                        1                           0                0   \n",
       "3                        1                           0                0   \n",
       "4                        1                           0                0   \n",
       "\n",
       "   Category_BOOKS_AND_REFERENCE  Category_BUSINESS  ...  Size_1,000+  Type_0  \\\n",
       "0                             0                  0  ...            0       0   \n",
       "1                             0                  0  ...            0       0   \n",
       "2                             0                  0  ...            0       0   \n",
       "3                             0                  0  ...            0       0   \n",
       "4                             0                  0  ...            0       0   \n",
       "\n",
       "   Type_Free  Type_Paid  Content Rating_Adults only 18+  \\\n",
       "0          1          0                               0   \n",
       "1          1          0                               0   \n",
       "2          1          0                               0   \n",
       "3          1          0                               0   \n",
       "4          1          0                               0   \n",
       "\n",
       "   Content Rating_Everyone  Content Rating_Everyone 10+  \\\n",
       "0                        1                            0   \n",
       "1                        1                            0   \n",
       "2                        1                            0   \n",
       "3                        0                            0   \n",
       "4                        1                            0   \n",
       "\n",
       "   Content Rating_Mature 17+  Content Rating_Teen  Content Rating_Unrated  \n",
       "0                          0                    0                       0  \n",
       "1                          0                    0                       0  \n",
       "2                          0                    0                       0  \n",
       "3                          0                    1                       0  \n",
       "4                          0                    0                       0  \n",
       "\n",
       "[5 rows x 379 columns]"
      ]
     },
     "execution_count": 132,
     "metadata": {},
     "output_type": "execute_result"
    }
   ],
   "source": [
    "df.head()"
   ]
  },
  {
   "cell_type": "markdown",
   "metadata": {},
   "source": [
    "### Q-Segregate the target and independent features (Hint: Use Rating_category as the target)"
   ]
  },
  {
   "cell_type": "code",
   "execution_count": null,
   "metadata": {},
   "outputs": [],
   "source": [
    "# Segregate the target and independent features (Hint: Use Rating_category as the target)\n",
    "X = df.drop(\"Rating_Category\",axis=1)\n",
    "y = df[\"Rating_Category\"]"
   ]
  },
  {
   "cell_type": "markdown",
   "metadata": {},
   "source": [
    "### Q-15 Split the dataset into train and tes"
   ]
  },
  {
   "cell_type": "code",
   "execution_count": 147,
   "metadata": {},
   "outputs": [],
   "source": [
    "# Defining a function to split the data\n",
    "def split_data(data,target_df):\n",
    "    x_train, x_test, y_train, y_test = train_test_split(data,target_df,test_size=0.2,random_state=42)\n",
    "    return x_train, x_test, y_train, y_test"
   ]
  },
  {
   "cell_type": "code",
   "execution_count": 149,
   "metadata": {},
   "outputs": [],
   "source": [
    "# Calling the function\n",
    "x_train, x_test, y_train, y_test=split_data(df,y)"
   ]
  },
  {
   "cell_type": "markdown",
   "metadata": {},
   "source": [
    "### Q-16  Standardize the data, so that the values are within a particular rang"
   ]
  },
  {
   "cell_type": "code",
   "execution_count": 150,
   "metadata": {},
   "outputs": [],
   "source": [
    "# Defining a function to standardize the data\n",
    "def stand_data(data_train, data_test):\n",
    "    scaler = StandardScaler()\n",
    "    scaler.fit(data_train)\n",
    "    data_train_scaled = scaler.transform(data_train)\n",
    "    data_test_scaled = scaler.transform(data_test)\n",
    "\n",
    "    data_train_scaled = pd.DataFrame(data_train_scaled, columns=data_train.columns, index=data_train.index)\n",
    "    data_test_scaled = pd.DataFrame(data_test_scaled, columns=data_test.columns, index=data_test.index)\n",
    "\n",
    "    return data_train_scaled, data_test_scaled"
   ]
  },
  {
   "cell_type": "code",
   "execution_count": 151,
   "metadata": {},
   "outputs": [],
   "source": [
    "# Calling the function to standardize the data\n",
    "x_train,x_test=stand_data(x_train,x_test)"
   ]
  },
  {
   "cell_type": "code",
   "execution_count": 152,
   "metadata": {},
   "outputs": [
    {
     "data": {
      "text/html": [
       "<div>\n",
       "<style scoped>\n",
       "    .dataframe tbody tr th:only-of-type {\n",
       "        vertical-align: middle;\n",
       "    }\n",
       "\n",
       "    .dataframe tbody tr th {\n",
       "        vertical-align: top;\n",
       "    }\n",
       "\n",
       "    .dataframe thead th {\n",
       "        text-align: right;\n",
       "    }\n",
       "</style>\n",
       "<table border=\"1\" class=\"dataframe\">\n",
       "  <thead>\n",
       "    <tr style=\"text-align: right;\">\n",
       "      <th></th>\n",
       "      <th>Reviews</th>\n",
       "      <th>Installs</th>\n",
       "      <th>Price</th>\n",
       "      <th>Rating_Category</th>\n",
       "      <th>Category_1.9</th>\n",
       "      <th>Category_ART_AND_DESIGN</th>\n",
       "      <th>Category_AUTO_AND_VEHICLES</th>\n",
       "      <th>Category_BEAUTY</th>\n",
       "      <th>Category_BOOKS_AND_REFERENCE</th>\n",
       "      <th>Category_BUSINESS</th>\n",
       "      <th>...</th>\n",
       "      <th>Size_1,000+</th>\n",
       "      <th>Type_0</th>\n",
       "      <th>Type_Free</th>\n",
       "      <th>Type_Paid</th>\n",
       "      <th>Content Rating_Adults only 18+</th>\n",
       "      <th>Content Rating_Everyone</th>\n",
       "      <th>Content Rating_Everyone 10+</th>\n",
       "      <th>Content Rating_Mature 17+</th>\n",
       "      <th>Content Rating_Teen</th>\n",
       "      <th>Content Rating_Unrated</th>\n",
       "    </tr>\n",
       "  </thead>\n",
       "  <tbody>\n",
       "    <tr>\n",
       "      <th>3025</th>\n",
       "      <td>0.770374</td>\n",
       "      <td>-0.144495</td>\n",
       "      <td>-0.063538</td>\n",
       "      <td>-0.354459</td>\n",
       "      <td>0.0</td>\n",
       "      <td>-0.085392</td>\n",
       "      <td>-0.089306</td>\n",
       "      <td>-0.067574</td>\n",
       "      <td>-0.142366</td>\n",
       "      <td>-0.179293</td>\n",
       "      <td>...</td>\n",
       "      <td>0.0</td>\n",
       "      <td>0.0</td>\n",
       "      <td>0.281103</td>\n",
       "      <td>-0.280755</td>\n",
       "      <td>-0.012976</td>\n",
       "      <td>0.499737</td>\n",
       "      <td>-0.208734</td>\n",
       "      <td>-0.216093</td>\n",
       "      <td>-0.356859</td>\n",
       "      <td>-0.012976</td>\n",
       "    </tr>\n",
       "    <tr>\n",
       "      <th>8755</th>\n",
       "      <td>-0.856911</td>\n",
       "      <td>-0.165669</td>\n",
       "      <td>0.179810</td>\n",
       "      <td>-0.354459</td>\n",
       "      <td>0.0</td>\n",
       "      <td>-0.085392</td>\n",
       "      <td>-0.089306</td>\n",
       "      <td>-0.067574</td>\n",
       "      <td>-0.142366</td>\n",
       "      <td>-0.179293</td>\n",
       "      <td>...</td>\n",
       "      <td>0.0</td>\n",
       "      <td>0.0</td>\n",
       "      <td>-3.557411</td>\n",
       "      <td>3.561830</td>\n",
       "      <td>-0.012976</td>\n",
       "      <td>-2.001053</td>\n",
       "      <td>-0.208734</td>\n",
       "      <td>4.627645</td>\n",
       "      <td>-0.356859</td>\n",
       "      <td>-0.012976</td>\n",
       "    </tr>\n",
       "    <tr>\n",
       "      <th>6929</th>\n",
       "      <td>-0.909668</td>\n",
       "      <td>-0.165669</td>\n",
       "      <td>-0.007381</td>\n",
       "      <td>-0.354459</td>\n",
       "      <td>0.0</td>\n",
       "      <td>-0.085392</td>\n",
       "      <td>-0.089306</td>\n",
       "      <td>-0.067574</td>\n",
       "      <td>-0.142366</td>\n",
       "      <td>-0.179293</td>\n",
       "      <td>...</td>\n",
       "      <td>0.0</td>\n",
       "      <td>0.0</td>\n",
       "      <td>-3.557411</td>\n",
       "      <td>3.561830</td>\n",
       "      <td>-0.012976</td>\n",
       "      <td>0.499737</td>\n",
       "      <td>-0.208734</td>\n",
       "      <td>-0.216093</td>\n",
       "      <td>-0.356859</td>\n",
       "      <td>-0.012976</td>\n",
       "    </tr>\n",
       "    <tr>\n",
       "      <th>1709</th>\n",
       "      <td>2.113240</td>\n",
       "      <td>1.953899</td>\n",
       "      <td>-0.063538</td>\n",
       "      <td>-0.354459</td>\n",
       "      <td>0.0</td>\n",
       "      <td>-0.085392</td>\n",
       "      <td>-0.089306</td>\n",
       "      <td>-0.067574</td>\n",
       "      <td>-0.142366</td>\n",
       "      <td>-0.179293</td>\n",
       "      <td>...</td>\n",
       "      <td>0.0</td>\n",
       "      <td>0.0</td>\n",
       "      <td>0.281103</td>\n",
       "      <td>-0.280755</td>\n",
       "      <td>-0.012976</td>\n",
       "      <td>0.499737</td>\n",
       "      <td>-0.208734</td>\n",
       "      <td>-0.216093</td>\n",
       "      <td>-0.356859</td>\n",
       "      <td>-0.012976</td>\n",
       "    </tr>\n",
       "    <tr>\n",
       "      <th>1054</th>\n",
       "      <td>0.291313</td>\n",
       "      <td>-0.155093</td>\n",
       "      <td>-0.063538</td>\n",
       "      <td>-0.354459</td>\n",
       "      <td>0.0</td>\n",
       "      <td>-0.085392</td>\n",
       "      <td>-0.089306</td>\n",
       "      <td>-0.067574</td>\n",
       "      <td>-0.142366</td>\n",
       "      <td>-0.179293</td>\n",
       "      <td>...</td>\n",
       "      <td>0.0</td>\n",
       "      <td>0.0</td>\n",
       "      <td>0.281103</td>\n",
       "      <td>-0.280755</td>\n",
       "      <td>-0.012976</td>\n",
       "      <td>0.499737</td>\n",
       "      <td>-0.208734</td>\n",
       "      <td>-0.216093</td>\n",
       "      <td>-0.356859</td>\n",
       "      <td>-0.012976</td>\n",
       "    </tr>\n",
       "    <tr>\n",
       "      <th>...</th>\n",
       "      <td>...</td>\n",
       "      <td>...</td>\n",
       "      <td>...</td>\n",
       "      <td>...</td>\n",
       "      <td>...</td>\n",
       "      <td>...</td>\n",
       "      <td>...</td>\n",
       "      <td>...</td>\n",
       "      <td>...</td>\n",
       "      <td>...</td>\n",
       "      <td>...</td>\n",
       "      <td>...</td>\n",
       "      <td>...</td>\n",
       "      <td>...</td>\n",
       "      <td>...</td>\n",
       "      <td>...</td>\n",
       "      <td>...</td>\n",
       "      <td>...</td>\n",
       "      <td>...</td>\n",
       "      <td>...</td>\n",
       "      <td>...</td>\n",
       "    </tr>\n",
       "    <tr>\n",
       "      <th>7754</th>\n",
       "      <td>-1.285383</td>\n",
       "      <td>-0.165689</td>\n",
       "      <td>-0.063538</td>\n",
       "      <td>-0.354459</td>\n",
       "      <td>0.0</td>\n",
       "      <td>-0.085392</td>\n",
       "      <td>-0.089306</td>\n",
       "      <td>-0.067574</td>\n",
       "      <td>-0.142366</td>\n",
       "      <td>-0.179293</td>\n",
       "      <td>...</td>\n",
       "      <td>0.0</td>\n",
       "      <td>0.0</td>\n",
       "      <td>0.281103</td>\n",
       "      <td>-0.280755</td>\n",
       "      <td>-0.012976</td>\n",
       "      <td>0.499737</td>\n",
       "      <td>-0.208734</td>\n",
       "      <td>-0.216093</td>\n",
       "      <td>-0.356859</td>\n",
       "      <td>-0.012976</td>\n",
       "    </tr>\n",
       "    <tr>\n",
       "      <th>7795</th>\n",
       "      <td>0.044417</td>\n",
       "      <td>-0.164631</td>\n",
       "      <td>-0.063538</td>\n",
       "      <td>-0.354459</td>\n",
       "      <td>0.0</td>\n",
       "      <td>-0.085392</td>\n",
       "      <td>-0.089306</td>\n",
       "      <td>-0.067574</td>\n",
       "      <td>-0.142366</td>\n",
       "      <td>-0.179293</td>\n",
       "      <td>...</td>\n",
       "      <td>0.0</td>\n",
       "      <td>0.0</td>\n",
       "      <td>0.281103</td>\n",
       "      <td>-0.280755</td>\n",
       "      <td>-0.012976</td>\n",
       "      <td>-2.001053</td>\n",
       "      <td>-0.208734</td>\n",
       "      <td>-0.216093</td>\n",
       "      <td>2.802224</td>\n",
       "      <td>-0.012976</td>\n",
       "    </tr>\n",
       "    <tr>\n",
       "      <th>7988</th>\n",
       "      <td>0.557467</td>\n",
       "      <td>-0.155093</td>\n",
       "      <td>-0.063538</td>\n",
       "      <td>-0.354459</td>\n",
       "      <td>0.0</td>\n",
       "      <td>-0.085392</td>\n",
       "      <td>-0.089306</td>\n",
       "      <td>-0.067574</td>\n",
       "      <td>-0.142366</td>\n",
       "      <td>-0.179293</td>\n",
       "      <td>...</td>\n",
       "      <td>0.0</td>\n",
       "      <td>0.0</td>\n",
       "      <td>0.281103</td>\n",
       "      <td>-0.280755</td>\n",
       "      <td>-0.012976</td>\n",
       "      <td>-2.001053</td>\n",
       "      <td>-0.208734</td>\n",
       "      <td>-0.216093</td>\n",
       "      <td>2.802224</td>\n",
       "      <td>-0.012976</td>\n",
       "    </tr>\n",
       "    <tr>\n",
       "      <th>1446</th>\n",
       "      <td>1.426028</td>\n",
       "      <td>0.046268</td>\n",
       "      <td>-0.063538</td>\n",
       "      <td>-0.354459</td>\n",
       "      <td>0.0</td>\n",
       "      <td>-0.085392</td>\n",
       "      <td>-0.089306</td>\n",
       "      <td>-0.067574</td>\n",
       "      <td>-0.142366</td>\n",
       "      <td>-0.179293</td>\n",
       "      <td>...</td>\n",
       "      <td>0.0</td>\n",
       "      <td>0.0</td>\n",
       "      <td>0.281103</td>\n",
       "      <td>-0.280755</td>\n",
       "      <td>-0.012976</td>\n",
       "      <td>0.499737</td>\n",
       "      <td>-0.208734</td>\n",
       "      <td>-0.216093</td>\n",
       "      <td>-0.356859</td>\n",
       "      <td>-0.012976</td>\n",
       "    </tr>\n",
       "    <tr>\n",
       "      <th>10598</th>\n",
       "      <td>-0.265152</td>\n",
       "      <td>-0.163571</td>\n",
       "      <td>-0.063538</td>\n",
       "      <td>-0.354459</td>\n",
       "      <td>0.0</td>\n",
       "      <td>-0.085392</td>\n",
       "      <td>-0.089306</td>\n",
       "      <td>-0.067574</td>\n",
       "      <td>-0.142366</td>\n",
       "      <td>-0.179293</td>\n",
       "      <td>...</td>\n",
       "      <td>0.0</td>\n",
       "      <td>0.0</td>\n",
       "      <td>0.281103</td>\n",
       "      <td>-0.280755</td>\n",
       "      <td>-0.012976</td>\n",
       "      <td>0.499737</td>\n",
       "      <td>-0.208734</td>\n",
       "      <td>-0.216093</td>\n",
       "      <td>-0.356859</td>\n",
       "      <td>-0.012976</td>\n",
       "    </tr>\n",
       "  </tbody>\n",
       "</table>\n",
       "<p>5940 rows × 379 columns</p>\n",
       "</div>"
      ],
      "text/plain": [
       "        Reviews  Installs     Price  Rating_Category  Category_1.9  \\\n",
       "3025   0.770374 -0.144495 -0.063538        -0.354459           0.0   \n",
       "8755  -0.856911 -0.165669  0.179810        -0.354459           0.0   \n",
       "6929  -0.909668 -0.165669 -0.007381        -0.354459           0.0   \n",
       "1709   2.113240  1.953899 -0.063538        -0.354459           0.0   \n",
       "1054   0.291313 -0.155093 -0.063538        -0.354459           0.0   \n",
       "...         ...       ...       ...              ...           ...   \n",
       "7754  -1.285383 -0.165689 -0.063538        -0.354459           0.0   \n",
       "7795   0.044417 -0.164631 -0.063538        -0.354459           0.0   \n",
       "7988   0.557467 -0.155093 -0.063538        -0.354459           0.0   \n",
       "1446   1.426028  0.046268 -0.063538        -0.354459           0.0   \n",
       "10598 -0.265152 -0.163571 -0.063538        -0.354459           0.0   \n",
       "\n",
       "       Category_ART_AND_DESIGN  Category_AUTO_AND_VEHICLES  Category_BEAUTY  \\\n",
       "3025                 -0.085392                   -0.089306        -0.067574   \n",
       "8755                 -0.085392                   -0.089306        -0.067574   \n",
       "6929                 -0.085392                   -0.089306        -0.067574   \n",
       "1709                 -0.085392                   -0.089306        -0.067574   \n",
       "1054                 -0.085392                   -0.089306        -0.067574   \n",
       "...                        ...                         ...              ...   \n",
       "7754                 -0.085392                   -0.089306        -0.067574   \n",
       "7795                 -0.085392                   -0.089306        -0.067574   \n",
       "7988                 -0.085392                   -0.089306        -0.067574   \n",
       "1446                 -0.085392                   -0.089306        -0.067574   \n",
       "10598                -0.085392                   -0.089306        -0.067574   \n",
       "\n",
       "       Category_BOOKS_AND_REFERENCE  Category_BUSINESS  ...  Size_1,000+  \\\n",
       "3025                      -0.142366          -0.179293  ...          0.0   \n",
       "8755                      -0.142366          -0.179293  ...          0.0   \n",
       "6929                      -0.142366          -0.179293  ...          0.0   \n",
       "1709                      -0.142366          -0.179293  ...          0.0   \n",
       "1054                      -0.142366          -0.179293  ...          0.0   \n",
       "...                             ...                ...  ...          ...   \n",
       "7754                      -0.142366          -0.179293  ...          0.0   \n",
       "7795                      -0.142366          -0.179293  ...          0.0   \n",
       "7988                      -0.142366          -0.179293  ...          0.0   \n",
       "1446                      -0.142366          -0.179293  ...          0.0   \n",
       "10598                     -0.142366          -0.179293  ...          0.0   \n",
       "\n",
       "       Type_0  Type_Free  Type_Paid  Content Rating_Adults only 18+  \\\n",
       "3025      0.0   0.281103  -0.280755                       -0.012976   \n",
       "8755      0.0  -3.557411   3.561830                       -0.012976   \n",
       "6929      0.0  -3.557411   3.561830                       -0.012976   \n",
       "1709      0.0   0.281103  -0.280755                       -0.012976   \n",
       "1054      0.0   0.281103  -0.280755                       -0.012976   \n",
       "...       ...        ...        ...                             ...   \n",
       "7754      0.0   0.281103  -0.280755                       -0.012976   \n",
       "7795      0.0   0.281103  -0.280755                       -0.012976   \n",
       "7988      0.0   0.281103  -0.280755                       -0.012976   \n",
       "1446      0.0   0.281103  -0.280755                       -0.012976   \n",
       "10598     0.0   0.281103  -0.280755                       -0.012976   \n",
       "\n",
       "       Content Rating_Everyone  Content Rating_Everyone 10+  \\\n",
       "3025                  0.499737                    -0.208734   \n",
       "8755                 -2.001053                    -0.208734   \n",
       "6929                  0.499737                    -0.208734   \n",
       "1709                  0.499737                    -0.208734   \n",
       "1054                  0.499737                    -0.208734   \n",
       "...                        ...                          ...   \n",
       "7754                  0.499737                    -0.208734   \n",
       "7795                 -2.001053                    -0.208734   \n",
       "7988                 -2.001053                    -0.208734   \n",
       "1446                  0.499737                    -0.208734   \n",
       "10598                 0.499737                    -0.208734   \n",
       "\n",
       "       Content Rating_Mature 17+  Content Rating_Teen  Content Rating_Unrated  \n",
       "3025                   -0.216093            -0.356859               -0.012976  \n",
       "8755                    4.627645            -0.356859               -0.012976  \n",
       "6929                   -0.216093            -0.356859               -0.012976  \n",
       "1709                   -0.216093            -0.356859               -0.012976  \n",
       "1054                   -0.216093            -0.356859               -0.012976  \n",
       "...                          ...                  ...                     ...  \n",
       "7754                   -0.216093            -0.356859               -0.012976  \n",
       "7795                   -0.216093             2.802224               -0.012976  \n",
       "7988                   -0.216093             2.802224               -0.012976  \n",
       "1446                   -0.216093            -0.356859               -0.012976  \n",
       "10598                  -0.216093            -0.356859               -0.012976  \n",
       "\n",
       "[5940 rows x 379 columns]"
      ]
     },
     "execution_count": 152,
     "metadata": {},
     "output_type": "execute_result"
    }
   ],
   "source": [
    "# Displaying the x_train and x_test after the standardize data.\n",
    "x_train"
   ]
  },
  {
   "cell_type": "markdown",
   "metadata": {},
   "source": [
    
